{
 "cells": [
  {
   "cell_type": "code",
   "execution_count": 19,
   "metadata": {},
   "outputs": [],
   "source": [
    "from IPython.core.interactiveshell import InteractiveShell\n",
    "InteractiveShell.ast_node_interactivity = \"all\""
   ]
  },
  {
   "cell_type": "code",
   "execution_count": 2,
   "metadata": {},
   "outputs": [],
   "source": [
    "from scipy import stats\n",
    "import numpy as np\n",
    "import time\n",
    "import matplotlib.pyplot as plt"
   ]
  },
  {
   "cell_type": "markdown",
   "metadata": {},
   "source": [
    "# mean_time"
   ]
  },
  {
   "cell_type": "markdown",
   "metadata": {},
   "source": [
    "## 1 2"
   ]
  },
  {
   "cell_type": "code",
   "execution_count": 5,
   "metadata": {},
   "outputs": [],
   "source": [
    "time1 = np.array([])\n",
    "time2 = np.array([])\n",
    "for i in range(100):\n",
    "    rnorm = np.random.normal(0,1,10000000)\n",
    "    rnorm_mat = rnorm.reshape(10,1000000)\n",
    "    \n",
    "    start = time.time()\n",
    "    np.mean(rnorm)\n",
    "    end = time.time()\n",
    "    \n",
    "    time1a = end-start\n",
    "    time1 = np.append(time1,time1a)\n",
    "    \n",
    "    start = time.time()\n",
    "    np.mean(np.mean(rnorm_mat,axis=1))\n",
    "    end = time.time()\n",
    "    \n",
    "    time2a = end-start\n",
    "    time2 = np.append(time2,time2a)"
   ]
  },
  {
   "cell_type": "code",
   "execution_count": 8,
   "metadata": {},
   "outputs": [
    {
     "data": {
      "text/plain": [
       "0.013412132263183593"
      ]
     },
     "execution_count": 8,
     "metadata": {},
     "output_type": "execute_result"
    },
    {
     "data": {
      "text/plain": [
       "0.011978631019592284"
      ]
     },
     "execution_count": 8,
     "metadata": {},
     "output_type": "execute_result"
    }
   ],
   "source": [
    "np.mean(time1)\n",
    "np.mean(time2)"
   ]
  },
  {
   "cell_type": "code",
   "execution_count": 9,
   "metadata": {},
   "outputs": [
    {
     "data": {
      "text/plain": [
       "(array([ 3.,  0., 63.,  0., 16.,  8.,  0.,  6.,  0.,  4.]),\n",
       " array([0.0119679 , 0.01236687, 0.01276584, 0.01316481, 0.01356378,\n",
       "        0.01396275, 0.01436172, 0.01476068, 0.01515965, 0.01555862,\n",
       "        0.01595759]),\n",
       " <a list of 10 Patch objects>)"
      ]
     },
     "execution_count": 9,
     "metadata": {},
     "output_type": "execute_result"
    },
    {
     "data": {
      "text/plain": [
       "(array([ 2., 31., 45.,  0., 14.,  5.,  0.,  1.,  1.,  1.]),\n",
       " array([0.00997353, 0.01067142, 0.01136932, 0.01206722, 0.01276512,\n",
       "        0.01346302, 0.01416092, 0.01485882, 0.01555672, 0.01625462,\n",
       "        0.01695251]),\n",
       " <a list of 10 Patch objects>)"
      ]
     },
     "execution_count": 9,
     "metadata": {},
     "output_type": "execute_result"
    },
    {
     "data": {
      "image/png": "[encoded data removed]",
      "text/plain": [
       "<matplotlib.figure.Figure at 0x22a16d13748>"
      ]
     },
     "metadata": {},
     "output_type": "display_data"
    }
   ],
   "source": [
    "plt.hist(time1)\n",
    "plt.hist(time2)"
   ]
  },
  {
   "cell_type": "code",
   "execution_count": 10,
   "metadata": {},
   "outputs": [
    {
     "data": {
      "text/plain": [
       "Ttest_indResult(statistic=10.409465962682908, pvalue=1.61497534532036e-20)"
      ]
     },
     "execution_count": 10,
     "metadata": {},
     "output_type": "execute_result"
    }
   ],
   "source": [
    "stats.ttest_ind(time1,time2)"
   ]
  },
  {
   "cell_type": "code",
   "execution_count": null,
   "metadata": {},
   "outputs": [],
   "source": [
    "time3 = np.array([])\n",
    "time4 = np.array([])\n",
    "for i in range(100):\n",
    "    rnorm = np.random.normal(0,1,10000000)\n",
    "    rnorm_mat = rnorm.reshape(10,1000000)\n",
    "\n",
    "    start = time.time()\n",
    "    np.mean(np.mean(rnorm_mat,axis=1))\n",
    "    end = time.time()\n",
    "    \n",
    "    time4a = end-start\n",
    "    time4 = np.append(time4,time4a)\n",
    "    \n",
    "    start = time.time()\n",
    "    np.mean(rnorm)\n",
    "    end = time.time()\n",
    "    \n",
    "    time3a = end-start\n",
    "    time3 = np.append(time3,time3a)"
   ]
  },
  {
   "cell_type": "code",
   "execution_count": 12,
   "metadata": {},
   "outputs": [
    {
     "data": {
      "text/plain": [
       "0.016713111400604247"
      ]
     },
     "execution_count": 12,
     "metadata": {},
     "output_type": "execute_result"
    },
    {
     "data": {
      "text/plain": [
       "0.015455515384674072"
      ]
     },
     "execution_count": 12,
     "metadata": {},
     "output_type": "execute_result"
    }
   ],
   "source": [
    "np.mean(time3)\n",
    "np.mean(time4)"
   ]
  },
  {
   "cell_type": "code",
   "execution_count": 13,
   "metadata": {},
   "outputs": [
    {
     "data": {
      "text/plain": [
       "(array([20., 42., 18.,  5., 11.,  1.,  0.,  0.,  0.,  3.]),\n",
       " array([0.01396179, 0.01515927, 0.01635675, 0.01755424, 0.01875172,\n",
       "        0.0199492 , 0.02114668, 0.02234416, 0.02354164, 0.02473912,\n",
       "        0.0259366 ]),\n",
       " <a list of 10 Patch objects>)"
      ]
     },
     "execution_count": 13,
     "metadata": {},
     "output_type": "execute_result"
    },
    {
     "data": {
      "text/plain": [
       "(array([35., 34., 10., 13.,  3.,  2.,  2.,  0.,  0.,  1.]),\n",
       " array([0.01296544, 0.01426218, 0.01555891, 0.01685565, 0.01815238,\n",
       "        0.01944911, 0.02074585, 0.02204258, 0.02333932, 0.02463605,\n",
       "        0.02593279]),\n",
       " <a list of 10 Patch objects>)"
      ]
     },
     "execution_count": 13,
     "metadata": {},
     "output_type": "execute_result"
    },
    {
     "data": {
      "image/png": "[encoded data removed]",
      "text/plain": [
       "<matplotlib.figure.Figure at 0x22a1708eba8>"
      ]
     },
     "metadata": {},
     "output_type": "display_data"
    }
   ],
   "source": [
    "plt.hist(time3)\n",
    "plt.hist(time4)"
   ]
  },
  {
   "cell_type": "code",
   "execution_count": 14,
   "metadata": {},
   "outputs": [
    {
     "data": {
      "text/plain": [
       "Ttest_indResult(statistic=4.271039098696968, pvalue=3.0186043035834636e-05)"
      ]
     },
     "execution_count": 14,
     "metadata": {},
     "output_type": "execute_result"
    }
   ],
   "source": [
    "stats.ttest_ind(time3,time4)"
   ]
  },
  {
   "cell_type": "markdown",
   "metadata": {},
   "source": [
    "# map_var"
   ]
  },
  {
   "cell_type": "code",
   "execution_count": 15,
   "metadata": {},
   "outputs": [
    {
     "data": {
      "text/plain": [
       "0.9971722719753179"
      ]
     },
     "execution_count": 15,
     "metadata": {},
     "output_type": "execute_result"
    }
   ],
   "source": [
    "n = 10\n",
    "rnorm = np.random.normal(0,1,100000)\n",
    "rnorm_mat = rnorm.reshape(n,10000)\n",
    "np.var(rnorm)"
   ]
  },
  {
   "cell_type": "markdown",
   "metadata": {},
   "source": [
    "## map"
   ]
  },
  {
   "cell_type": "code",
   "execution_count": 17,
   "metadata": {},
   "outputs": [],
   "source": [
    "varn = np.var(rnorm_mat,axis=1)\n",
    "meann = np.mean(rnorm_mat,axis=1)"
   ]
  },
  {
   "cell_type": "markdown",
   "metadata": {},
   "source": [
    "## reduce"
   ]
  },
  {
   "cell_type": "code",
   "execution_count": 18,
   "metadata": {},
   "outputs": [
    {
     "data": {
      "text/plain": [
       "0.9971722719753178"
      ]
     },
     "execution_count": 18,
     "metadata": {},
     "output_type": "execute_result"
    }
   ],
   "source": [
    "mean1 = np.mean(np.mean(rnorm_mat,axis=1))\n",
    "var = varn + (mean1-meann)**2\n",
    "np.sum(var)/n"
   ]
  }
 ],
 "metadata": {
  "kernelspec": {
   "display_name": "Python 3",
   "language": "python",
   "name": "python3"
  },
  "language_info": {
   "codemirror_mode": {
    "name": "ipython",
    "version": 3
   },
   "file_extension": ".py",
   "mimetype": "text/x-python",
   "name": "python",
   "nbconvert_exporter": "python",
   "pygments_lexer": "ipython3",
   "version": "3.6.4"
  }
 },
 "nbformat": 4,
 "nbformat_minor": 2
}
