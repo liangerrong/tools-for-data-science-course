{
 "cells": [
  {
   "cell_type": "markdown",
   "metadata": {},
   "source": [
    "设有一组数字，这组数字的均值和方差如下：\n",
    "\n",
    "$$\n",
    "mean=\\frac{x_{1}+x_{2}+\\ldots+x_{n}}{n}=\\frac{\\operatorname{sum} 1}{n}\n",
    "$$\n",
    "\n",
    "$$\n",
    "\\operatorname{var}=\\frac{\\sum_{i=1}^{n}\\left(x_{i}-mean\\right)^{2}}{n}=\n",
    "\\frac{\\sum_{i=1}^{n}\\left(x_{i}^{2}-2 * m e a n * x_{i}+m e a n^{2}\\right)}{n}=\\frac{s u m 2}{n}-m e a n^{2}\n",
    "$$\n",
    "\n",
    "其中，$sum1$ 是 $\\left(x_{1}+x_{2}+\\ldots+x_{n}\\right)$，$sum2$ 就是 $\\left(x_{1}^{2}+x_{2}^{2}+\\ldots+x_{n}^{2}\\right)$"
   ]
  },
  {
   "cell_type": "markdown",
   "metadata": {},
   "source": [
    "首先，计算 map 端每个部分的 {count(元素个数)、sum1/count、sum2/count}，然后在 reduce 端将所有 map 端传入的 sum1 加起来在除以总个数 n 得到均值 mean；将所有的 sum2 加起来除以 n 再减去均值 mean 的平方，就得到了方差 var."
   ]
  },
  {
   "cell_type": "code",
   "execution_count": 1,
   "metadata": {},
   "outputs": [],
   "source": [
    "import numpy as np\n",
    "import time\n",
    "\n",
    "def mapper(input):\n",
    "    numInputs = len(input)\n",
    "    input = np.mat(input)\n",
    "    sqInput = np.power(input,2)\n",
    "\n",
    "    # 输出数据个数，均值，以及平方和的均值\n",
    "    return [numInputs, np.mean(input), np.mean(sqInput)]\n",
    "\n",
    "\n",
    "def reduce(mapperOut):\n",
    "    cumVal = 0.0\n",
    "    cumSumSq = 0.0\n",
    "    cumN = 0.0\n",
    "    for instance in mapperOut:\n",
    "        nj = float(instance[0]) # 第一个字段是数据个数\n",
    "        cumN += nj\n",
    "        cumVal += nj*float(instance[1])    # 第二个字段是一个 map 输出的均值，均值乘以数据个数就是数据总和\n",
    "        cumSumSq += nj*float(instance[2])  # 第三个字段是一个 map 输出的平方和的均值，乘以元素个数就是所有元素的平方和\n",
    "\n",
    "    mean = cumVal/cumN  # 得到所有元素的均值\n",
    "    var = (cumSumSq/cumN-mean*mean) # 得到所有元素的方差\n",
    "\n",
    "    print(cumN, mean, var)"
   ]
  },
  {
   "cell_type": "code",
   "execution_count": 2,
   "metadata": {},
   "outputs": [],
   "source": [
    "data = np.array(np.random.randint(0, 100, 10**6))\n",
    "n = 10\n",
    "mapData = data.reshape(n, -1)\n",
    "mapperOut = np.zeros([n, 3])"
   ]
  },
  {
   "cell_type": "code",
   "execution_count": 3,
   "metadata": {},
   "outputs": [
    {
     "name": "stdout",
     "output_type": "stream",
     "text": [
      "1000000.0 49.526416 834.9573621949444\n",
      "0.0008411000999998918\n"
     ]
    }
   ],
   "source": [
    "start = time.perf_counter()\n",
    "for i in range(n):\n",
    "    mapperOut[i] = mapper(mapData[i])\n",
    "node = time.perf_counter()\n",
    "reduce(mapperOut)\n",
    "end = time.perf_counter()\n",
    "print(end - node + (node-start)/n)"
   ]
  },
  {
   "cell_type": "code",
   "execution_count": 4,
   "metadata": {},
   "outputs": [
    {
     "name": "stdout",
     "output_type": "stream",
     "text": [
      "1000000 49.526416 834.957362194944\n",
      "0.01815889699999995\n"
     ]
    }
   ],
   "source": [
    "start = time.perf_counter()\n",
    "print(len(data), data.mean(), data.var())\n",
    "end = time.perf_counter()\n",
    "print(end-start)"
   ]
  }
 ],
 "metadata": {
  "kernelspec": {
   "display_name": "Python 3",
   "language": "python",
   "name": "python3"
  },
  "language_info": {
   "codemirror_mode": {
    "name": "ipython",
    "version": 3
   },
   "file_extension": ".py",
   "mimetype": "text/x-python",
   "name": "python",
   "nbconvert_exporter": "python",
   "pygments_lexer": "ipython3",
   "version": "3.7.0"
  },
  "toc": {
   "base_numbering": 1,
   "nav_menu": {},
   "number_sections": true,
   "sideBar": true,
   "skip_h1_title": false,
   "title_cell": "Table of Contents",
   "title_sidebar": "Contents",
   "toc_cell": false,
   "toc_position": {},
   "toc_section_display": true,
   "toc_window_display": false
  }
 },
 "nbformat": 4,
 "nbformat_minor": 2
}
