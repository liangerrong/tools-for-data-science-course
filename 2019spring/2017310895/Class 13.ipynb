{
 "cells": [
  {
   "cell_type": "code",
   "execution_count": 51,
   "metadata": {},
   "outputs": [],
   "source": [
    "import numpy as np\n",
    "import random\n",
    "import pandas\n",
    "import time\n",
    "data=np.random.rand(100000000)\n"
   ]
  },
  {
   "cell_type": "code",
   "execution_count": 53,
   "metadata": {},
   "outputs": [
    {
     "name": "stderr",
     "output_type": "stream",
     "text": [
      "C:\\Users\\14232\\Anaconda3\\lib\\site-packages\\ipykernel_launcher.py:1: DeprecationWarning: time.clock has been deprecated in Python 3.3 and will be removed from Python 3.8: use time.perf_counter or time.process_time instead\n",
      "  \"\"\"Entry point for launching an IPython kernel.\n"
     ]
    },
    {
     "name": "stdout",
     "output_type": "stream",
     "text": [
      "Time used: 290.97580841800027\n"
     ]
    },
    {
     "name": "stderr",
     "output_type": "stream",
     "text": [
      "C:\\Users\\14232\\Anaconda3\\lib\\site-packages\\ipykernel_launcher.py:21: DeprecationWarning: time.clock has been deprecated in Python 3.3 and will be removed from Python 3.8: use time.perf_counter or time.process_time instead\n"
     ]
    }
   ],
   "source": [
    "start = time.clock()\n",
    "av_data=[]\n",
    "def map(data_group):\n",
    "    n=len(data_group)\n",
    "    avr_group=sum(data_group)/n\n",
    "    return avr_group\n",
    "def redu(av_group,weight):\n",
    "    for j in av_group:\n",
    "        av_data.append(j/weight)\n",
    "    return sum(av_data)    \n",
    "data_s={}\n",
    "for i in range(10):\n",
    "    data_s[str(i)]=random.sample(list(data),10000000)\n",
    "    i=i+1\n",
    "av_list=[]\n",
    "for i in range(10):\n",
    "    av_list.append(map(data_s[str(i)]))\n",
    "    i=i+1\n",
    "    \n",
    "redu(av_list,10)\n",
    "elapsed = (time.clock() - start)\n",
    "print(\"Time used:\",elapsed)"
   ]
  },
  {
   "cell_type": "code",
   "execution_count": 45,
   "metadata": {},
   "outputs": [
    {
     "data": {
      "text/plain": [
       "1.00444191412287"
      ]
     },
     "execution_count": 45,
     "metadata": {},
     "output_type": "execute_result"
    }
   ],
   "source": [
    "redu(av_list,10)"
   ]
  },
  {
   "cell_type": "code",
   "execution_count": 28,
   "metadata": {},
   "outputs": [],
   "source": [
    "###实验程序\n",
    "data_s={}\n",
    "for i in range(10):\n",
    "    data_s[str(i)]=random.sample(list(data),10000)\n",
    "    i=i+1"
   ]
  },
  {
   "cell_type": "code",
   "execution_count": 29,
   "metadata": {},
   "outputs": [],
   "source": [
    "av_list=[]\n",
    "for i in range(10):\n",
    "    av_list.append(map(data_s[str(i)]))\n",
    "    i=i+1"
   ]
  },
  {
   "cell_type": "code",
   "execution_count": 30,
   "metadata": {},
   "outputs": [
    {
     "data": {
      "text/plain": [
       "[0.4987046253628066,\n",
       " 0.4979327259605442,\n",
       " 0.49994817656241997,\n",
       " 0.5001083714722026,\n",
       " 0.49730990588587665,\n",
       " 0.5017239715702724,\n",
       " 0.5026260368700441,\n",
       " 0.5000819743331435,\n",
       " 0.4980138256053792,\n",
       " 0.49989383093595324]"
      ]
     },
     "execution_count": 30,
     "metadata": {},
     "output_type": "execute_result"
    }
   ],
   "source": [
    "av_list"
   ]
  },
  {
   "cell_type": "code",
   "execution_count": 35,
   "metadata": {},
   "outputs": [
    {
     "data": {
      "text/plain": [
       "0.4996343444558642"
      ]
     },
     "execution_count": 35,
     "metadata": {},
     "output_type": "execute_result"
    }
   ],
   "source": [
    "redu(av_list,10)"
   ]
  },
  {
   "cell_type": "code",
   "execution_count": 54,
   "metadata": {},
   "outputs": [
    {
     "name": "stdout",
     "output_type": "stream",
     "text": [
      "0.5000168141070547\n",
      "Time used: 290.97580841800027\n"
     ]
    },
    {
     "name": "stderr",
     "output_type": "stream",
     "text": [
      "C:\\Users\\14232\\Anaconda3\\lib\\site-packages\\ipykernel_launcher.py:1: DeprecationWarning: time.clock has been deprecated in Python 3.3 and will be removed from Python 3.8: use time.perf_counter or time.process_time instead\n",
      "  \"\"\"Entry point for launching an IPython kernel.\n",
      "C:\\Users\\14232\\Anaconda3\\lib\\site-packages\\ipykernel_launcher.py:3: DeprecationWarning: time.clock has been deprecated in Python 3.3 and will be removed from Python 3.8: use time.perf_counter or time.process_time instead\n",
      "  This is separate from the ipykernel package so we can avoid doing imports until\n"
     ]
    }
   ],
   "source": [
    "start1 = time.clock()\n",
    "print(sum(data)/len(data))\n",
    "elapsed1 = (time.clock() - start1)\n",
    "print(\"Time used:\",elapsed)"
   ]
  },
  {
   "cell_type": "markdown",
   "metadata": {},
   "source": [
    "求方差"
   ]
  },
  {
   "cell_type": "code",
   "execution_count": null,
   "metadata": {},
   "outputs": [],
   "source": [
    "\n",
    "def map_var(data_group):\n",
    "    n=len(data_group)\n",
    "    std_group=[]\n",
    "    av=map(data_group)\n",
    "    for m in data_group:\n",
    "        std_group.append((m-av)**2)\n",
    "    return std_group\n",
    "def red_var(std_ngroup,weight):\n",
    "    stdlist=[]\n",
    "    for n in std_ngroup:\n",
    "        stdlist.append(n/weight)\n",
    "    return sum(stdlist)\n",
    "for i in range(10):\n",
    "    data_s[str(i)]=random.sample(list(data),10000000)\n",
    "    i=i+1\n",
    "std_list=[]\n",
    "for i in range(10):\n",
    "    std_list.append(map_var(data_s[str(i)]))\n",
    "    i=i+1\n",
    "redu(std_list,10)\n",
    "elapsed = (time.clock() - start)\n",
    "print(\"Time used:\",elapsed)"
   ]
  },
  {
   "cell_type": "code",
   "execution_count": null,
   "metadata": {},
   "outputs": [],
   "source": []
  },
  {
   "cell_type": "code",
   "execution_count": null,
   "metadata": {},
   "outputs": [],
   "source": []
  },
  {
   "cell_type": "code",
   "execution_count": null,
   "metadata": {},
   "outputs": [],
   "source": []
  }
 ],
 "metadata": {
  "kernelspec": {
   "display_name": "Python 3",
   "language": "python",
   "name": "python3"
  },
  "language_info": {
   "codemirror_mode": {
    "name": "ipython",
    "version": 3
   },
   "file_extension": ".py",
   "mimetype": "text/x-python",
   "name": "python",
   "nbconvert_exporter": "python",
   "pygments_lexer": "ipython3",
   "version": "3.7.1"
  }
 },
 "nbformat": 4,
 "nbformat_minor": 2
}
