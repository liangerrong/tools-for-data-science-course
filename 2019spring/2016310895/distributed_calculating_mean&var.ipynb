{
 "cells": [
  {
   "cell_type": "code",
   "execution_count": 2,
   "metadata": {},
   "outputs": [],
   "source": [
    "import numpy\n",
    "import random\n",
    "a = (numpy.random.randn(30000)+2)*10\n",
    "b = (numpy.random.randn(30000)+4)*7\n",
    "c = (numpy.random.randn(40000)+10)*6\n",
    "data = numpy.hstack((a,b,c))\n",
    "#numpy.random.shuffle(data)          #打乱data顺序"
   ]
  },
  {
   "cell_type": "markdown",
   "metadata": {},
   "source": [
    "map端"
   ]
  },
  {
   "cell_type": "code",
   "execution_count": 3,
   "metadata": {},
   "outputs": [],
   "source": [
    "#每组均值\n",
    "mean1 = numpy.mean(data[0:10000])\n",
    "mean2 = numpy.mean(data[10000:20000])\n",
    "mean3 = numpy.mean(data[20000:30000])\n",
    "mean4 = numpy.mean(data[30000:40000])\n",
    "mean5 = numpy.mean(data[40000:50000])\n",
    "mean6 = numpy.mean(data[50000:60000])\n",
    "mean7 = numpy.mean(data[60000:70000])\n",
    "mean8 = numpy.mean(data[70000:80000])\n",
    "mean9 = numpy.mean(data[80000:90000])\n",
    "mean10 = numpy.mean(data[90000:100000])\n",
    "\n",
    "#每组数值量\n",
    "len1 = len(data[0:10000])\n",
    "len2 = len(data[10000:20000])\n",
    "len3 = len(data[20000:30000])\n",
    "len4 = len(data[30000:40000])\n",
    "len5 = len(data[40000:50000])\n",
    "len6 = len(data[50000:60000])\n",
    "len7 = len(data[60000:70000])\n",
    "len8 = len(data[70000:80000])\n",
    "len9 = len(data[80000:90000])\n",
    "len10 =len(data[90000:100000])\n",
    "\n",
    "\n",
    "#每组的平方和\n",
    "data1 = data[0:10000]\n",
    "data2 = data[10000:20000]\n",
    "data3 = data[20000:30000]\n",
    "data4 = data[30000:40000]\n",
    "data5 = data[40000:50000]\n",
    "data6 = data[50000:60000]\n",
    "data7 = data[60000:70000]\n",
    "data8 = data[70000:80000]\n",
    "data9 = data[80000:90000]\n",
    "data10 = data[90000:100000]\n",
    "\n",
    "sum_1 = sum(numpy.multiply(numpy.array(data1),numpy.array(data1)))\n",
    "sum_2 = sum(numpy.multiply(numpy.array(data2),numpy.array(data2)))\n",
    "sum_3 = sum(numpy.multiply(numpy.array(data3),numpy.array(data3)))\n",
    "sum_4 = sum(numpy.multiply(numpy.array(data4),numpy.array(data4)))\n",
    "sum_5 = sum(numpy.multiply(numpy.array(data5),numpy.array(data5)))\n",
    "sum_6 = sum(numpy.multiply(numpy.array(data6),numpy.array(data6)))\n",
    "sum_7 = sum(numpy.multiply(numpy.array(data7),numpy.array(data7)))\n",
    "sum_8 = sum(numpy.multiply(numpy.array(data8),numpy.array(data8)))\n",
    "sum_9 = sum(numpy.multiply(numpy.array(data9),numpy.array(data9)))\n",
    "sum_10 = sum(numpy.multiply(numpy.array(data10),numpy.array(data10)))"
   ]
  },
  {
   "cell_type": "markdown",
   "metadata": {},
   "source": [
    "reduce端"
   ]
  },
  {
   "cell_type": "code",
   "execution_count": 4,
   "metadata": {},
   "outputs": [
    {
     "name": "stdout",
     "output_type": "stream",
     "text": [
      "38.392440167812595\n"
     ]
    }
   ],
   "source": [
    "#求均值\n",
    "mean = [mean1,mean2,mean3,mean4,mean5,mean6,mean7,mean8,mean9,mean10]\n",
    "lenth = [len1,len2,len3,len4,len5,len6,len7,len8,len9,len10]\n",
    "\n",
    "prod = numpy.multiply(numpy.array(mean),numpy.array(lenth))\n",
    "sum_prod = sum(prod)\n",
    "\n",
    "sum_length = sum(lenth)\n",
    "mean_all = sum_prod/sum_length\n",
    "print(mean_all)"
   ]
  },
  {
   "cell_type": "code",
   "execution_count": 6,
   "metadata": {},
   "outputs": [
    {
     "name": "stdout",
     "output_type": "stream",
     "text": [
      "381.6644929262784\n"
     ]
    }
   ],
   "source": [
    "#求方差\n",
    "sum2 = sum([sum_1,sum_2,sum_3,sum_4,sum_5,sum_6,sum_7,sum_8,sum_9,sum_10])\n",
    "var = sum2/sum_length - mean_all**2\n",
    "print(var)"
   ]
  },
  {
   "cell_type": "code",
   "execution_count": 7,
   "metadata": {},
   "outputs": [
    {
     "name": "stdout",
     "output_type": "stream",
     "text": [
      "38.392440167812595\n",
      "381.6644929262728\n"
     ]
    }
   ],
   "source": [
    "print(numpy.mean(data))\n",
    "print(numpy.var(data))"
   ]
  }
 ],
 "metadata": {
  "kernelspec": {
   "display_name": "Python 3",
   "language": "python",
   "name": "python3"
  },
  "language_info": {
   "codemirror_mode": {
    "name": "ipython",
    "version": 3
   },
   "file_extension": ".py",
   "mimetype": "text/x-python",
   "name": "python",
   "nbconvert_exporter": "python",
   "pygments_lexer": "ipython3",
   "version": "3.7.1"
  }
 },
 "nbformat": 4,
 "nbformat_minor": 2
}
