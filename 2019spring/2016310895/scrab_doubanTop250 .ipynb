{
 "cells": [
  {
   "cell_type": "code",
   "execution_count": 34,
   "metadata": {},
   "outputs": [],
   "source": [
    "from bs4 import BeautifulSoup\n",
    "import requests\n",
    "\n",
    "url = \"https://movie.douban.com/top250\"\n",
    "f = requests.get(url)       #Get该网页从而获取该html内容\n",
    "soup = BeautifulSoup(f.content,'lxml')      #用lxml解析器解析该网页的内容, 好像f.text也是返回的html\n",
    "print(f.content.decode())\n",
    "#content = soup.find_all('div',class_=\"info\" )   #因为calss和关键字冲突，所以改名class_\n"
   ]
  },
  {
   "cell_type": "code",
   "execution_count": 24,
   "metadata": {},
   "outputs": [],
   "source": [
    "name = []\n",
    "for k in soup.find_all('div',class_ = 'info'):\n",
    "    a = k.find_all('span',class_ ='title')\n",
    "    print(a[0].string)\n",
    "    name.append(a[0].string)\n",
    "\n",
    "score = []\n",
    "for k in soup.find_all('div',class_ = 'info'):\n",
    "    a = k.find_all('span',class_ ='rating_num')\n",
    "    print(a[0].string)\n",
    "    score.append(a[0].string)\n",
    "    \n",
    "quote = []\n",
    "for k in soup.find_all('div',class_ = 'info'):\n",
    "    a = k.find_all('span',class_='inq')\n",
    "    print(a[0].string)\n",
    "    quote.append(a[0].string)\n",
    "    \n",
    "info = []\n",
    "for k in soup.find_all('div',class_ = 'info'):\n",
    "    a = k.find_all('p',class_='')\n",
    "    print(a)\n",
    "    info.append(a)\n"
   ]
  },
  {
   "cell_type": "code",
   "execution_count": 36,
   "metadata": {},
   "outputs": [
    {
     "data": {
      "text/plain": [
       "<selenium.webdriver.remote.webelement.WebElement (session=\"8bc4bfb75d7d265d384b4c3843169882\", element=\"0.3648382548744715-2\")>"
      ]
     },
     "execution_count": 36,
     "metadata": {},
     "output_type": "execute_result"
    }
   ],
   "source": [
    "scrapy = {'name':name,'info':info,'quote':quote,'score':score}\n",
    "print(scrapy)"
   ]
  },
  {
   "cell_type": "code",
   "execution_count": null,
   "metadata": {},
   "outputs": [],
   "source": []
  }
 ],
 "metadata": {
  "kernelspec": {
   "display_name": "Python 3",
   "language": "python",
   "name": "python3"
  },
  "language_info": {
   "codemirror_mode": {
    "name": "ipython",
    "version": 3
   },
   "file_extension": ".py",
   "mimetype": "text/x-python",
   "name": "python",
   "nbconvert_exporter": "python",
   "pygments_lexer": "ipython3",
   "version": "3.7.1"
  }
 },
 "nbformat": 4,
 "nbformat_minor": 2
}
