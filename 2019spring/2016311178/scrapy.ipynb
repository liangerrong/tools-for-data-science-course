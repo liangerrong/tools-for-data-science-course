{
 "cells": [
  {
   "cell_type": "code",
   "execution_count": null,
   "metadata": {},
   "outputs": [],
   "source": [
    "import urllib\n",
    "from urllib.request import urlopen\n",
    "from bs4 import BeautifulSoup\n",
    "title=[]\n",
    "def get_all(web):\n",
    "    html=urlopen(web)\n",
    "    bs = BeautifulSoup(html.read(), 'html.parser')\n",
    "    for t in bs.select(\"li a\"):\n",
    "        if t.text.strip() != \"\":\n",
    "            t=t.text.strip()\n",
    "            title.append(t)\n",
    "    return title\n",
    "\n",
    "web='http://www.cufe.edu.cn' \n",
    "get_all(web)\n",
    "total={\"title\":title}\n",
    "print(total)"
   ]
  },
  {
   "cell_type": "code",
   "execution_count": 4,
   "metadata": {},
   "outputs": [
    {
     "name": "stderr",
     "output_type": "stream",
     "text": [
      "Some characters could not be decoded, and were replaced with REPLACEMENT CHARACTER.\n"
     ]
    },
    {
     "name": "stdout",
     "output_type": "stream",
     "text": [
      "一文看懂Google I/O 2019大会 : Android Q大更新，还有两款新硬件！\u00012019-05-08\u0001芯智讯\u0001    5月8日消息 2019年Google I/O大会在旧金山芒廷维尤的圆形海岸剧场举行 在时长几乎两个小时的演讲环节 谷歌展示了搜索、语音助手、Android Q和智能硬件方面的更新     1、搜索―加入AR后更逼真展示    Goolge CEO Sundar Pichai\u0001https://t.cj.sina.com.cn/articles/view/5772303575/1580e5cd701900elsq?from=tech\n",
      "业界 | Google I/O 2019 全纪录 : AI 惊艳，Android Q 真香，还有两款新硬件\u00012019-05-08\u0001AI科技评论aitechtalk\u0001    赶在微软 Build 2019 的第二天 Google I/O 如期到来     有趣的是 与去年一样 在 Build 2019 的西雅图场地中 微软也贴心而大方地现场直播了这场由 Google 打造的同样举办在美国西海岸的科技盛会 只不过 与 Bulid 大会相比 Google\u0001https://t.cj.sina.com.cn/articles/view/6552764637/1869340dd01900kk91?from=tech\n",
      "Google I/O大会今日召开，除了安卓Q，这些都值得你看\u00012019-05-08\u0001透明的芯TM\u0001此次大会发布了最新一代Android Q操作系统 新系统不仅重新设计了界面UI 还带来了更多语音识别、人工智能方面的升级        Android Q围绕着创新、安全和隐私进行的改进     作为第十代Android系统 Android\u0001https://t.cj.sina.com.cn/articles/view/2696066233/a0b2b4b900100okz7?from=tech\n",
      "高通Google联手合作 强化Android Q并推动5G应用\u00012019-05-08\u0001砍柴网\u0001高通昨天宣布与谷歌合作  强化Android Q上的开发者API以推动5G应用 高通称这样可以更快地访问云服务 实时视频协作 多人云游戏以及用于购物和导航的AR        Android生态体系在今年正快速移转至5G\u0001https://t.cj.sina.com.cn/articles/view/2286037382/8842298602000iw88?from=tech\n",
      "Google IO 2019新版Android Q有哪些新功能呢？国产手机站一半多！\u00012019-05-08\u0001发哥搞机\u0001  Google IO 2019新版Android Q有哪些新功能呢？国产手机站一半多！  \u0001https://t.cj.sina.com.cn/articles/view/6042105403/m16823363b03300fae8?from=tech\n"
     ]
    },
    {
     "name": "stderr",
     "output_type": "stream",
     "text": [
      "Some characters could not be decoded, and were replaced with REPLACEMENT CHARACTER.\n"
     ]
    },
    {
     "name": "stdout",
     "output_type": "stream",
     "text": [
      "一文看懂Google I/O 2019大会 : Android Q大更新，还有两款新硬件！\u00012019-05-08\u0001芯智讯\u0001    5月8日消息 2019年Google I/O大会在旧金山芒廷维尤的圆形海岸剧场举行 在时长几乎两个小时的演讲环节 谷歌展示了搜索、语音助手、Android Q和智能硬件方面的更新     1、搜索―加入AR后更逼真展示    Goolge CEO Sundar Pichai\u0001https://t.cj.sina.com.cn/articles/view/5772303575/1580e5cd701900elsq?from=tech\n",
      "业界 | Google I/O 2019 全纪录 : AI 惊艳，Android Q 真香，还有两款新硬件\u00012019-05-08\u0001AI科技评论aitechtalk\u0001    赶在微软 Build 2019 的第二天 Google I/O 如期到来     有趣的是 与去年一样 在 Build 2019 的西雅图场地中 微软也贴心而大方地现场直播了这场由 Google 打造的同样举办在美国西海岸的科技盛会 只不过 与 Bulid 大会相比 Google\u0001https://t.cj.sina.com.cn/articles/view/6552764637/1869340dd01900kk91?from=tech\n",
      "Google I/O大会今日召开，除了安卓Q，这些都值得你看\u00012019-05-08\u0001透明的芯TM\u0001此次大会发布了最新一代Android Q操作系统 新系统不仅重新设计了界面UI 还带来了更多语音识别、人工智能方面的升级        Android Q围绕着创新、安全和隐私进行的改进     作为第十代Android系统 Android\u0001https://t.cj.sina.com.cn/articles/view/2696066233/a0b2b4b900100okz7?from=tech\n",
      "高通Google联手合作 强化Android Q并推动5G应用\u00012019-05-08\u0001砍柴网\u0001高通昨天宣布与谷歌合作  强化Android Q上的开发者API以推动5G应用 高通称这样可以更快地访问云服务 实时视频协作 多人云游戏以及用于购物和导航的AR        Android生态体系在今年正快速移转至5G\u0001https://t.cj.sina.com.cn/articles/view/2286037382/8842298602000iw88?from=tech\n",
      "Google IO 2019新版Android Q有哪些新功能呢？国产手机站一半多！\u00012019-05-08\u0001发哥搞机\u0001  Google IO 2019新版Android Q有哪些新功能呢？国产手机站一半多！  \u0001https://t.cj.sina.com.cn/articles/view/6042105403/m16823363b03300fae8?from=tech\n"
     ]
    }
   ],
   "source": [
    "import logging\n",
    "import requests\n",
    "import sys\n",
    "import urllib\n",
    "import random\n",
    "\n",
    "from bs4 import BeautifulSoup\n",
    "from collections import OrderedDict\n",
    "from urllib.parse import urlencode\n",
    "\n",
    "\n",
    "\n",
    "    \n",
    "def get_list(comp, page):\n",
    "    newsData = OrderedDict()\n",
    "    href = 'http://search.sina.com.cn/?q=%s&range=title&c=news&sort=time&col=&source=&from=&country=&size=&time=&a=&page=%s&pf=0&ps=0&dpc=1' % (comp, page) # comp -> first %s; page -> 2nd %s; col=1_7 -> financial news in sina\n",
    "    user_agent_list =[\"Mozilla/5.0 (Windows NT 10.0; WOW64) AppleWebKit/537.36 (KHTML, like Gecko) Chrome/56.0.2924.87 Safari/537.36\",\"Mozilla/5.0 (Windows NT 6.1; WOW64) AppleWebKit/537.1 (KHTML, like Gecko) Chrome/22.0.1207.1 Safari/537.1\", \"Mozilla/5.0 (Windows NT 6.1; WOW64) AppleWebKit/536.6 (KHTML, like Gecko) Chrome/20.0.1092.0 Safari/536.6\"]\n",
    "    headers = {\n",
    "        \"UserAgent\": random.choice(user_agent_list),\n",
    "        \"Cookie\":\"mYSeArcH=%u5218%u5F3A%u4E1C%7CsEaRchHIS%7Cgoogle%7CsEaRchHIS%7CQQ%7CsEaRchHIS%7Cqq%u97F3%u4E50%7CsEaRchHIS%7C%u4EAC%u4E1C%7CsEaRchHIS%7CGoogle; SUB=_2AkMrnN_gf8NxqwJRmfoTzW_rbIx3ywvEieKdwC47JRMyHRl-yD9jqlIptRB6ABzxD2kKfdQfZ-Coy04KkJvbk_-I_KnL; SINAGLOBAL=117.136.0.214_1556107465.510098; ULV=1557671340481:6:5:2:223.104.3.139_1557665073.10617:1557665073332; vjuids=7ebce9e79.1674b308bb4.0.f3728c2f0b4b8; SUBP=0033WrSXqPxfM72-Ws9jqgMF55529P9D9W5vzRG1LHM4CGq0TjdTurMK; vjlast=1545488586.1555950666.10; U_TRS2=0000008a.453f4ea8.5cdbdabb.dbd49745; Apache=123.124.19.138_1557912252.971237\"\n",
    "\n",
    "    }\n",
    "    \n",
    "    html = requests.get(href,headers)\n",
    "    # Parsing html\n",
    "    soup = BeautifulSoup(html.content, 'html.parser')\n",
    "    divs = soup.findAll('div', {\"class\": \"box-result clearfix\"})\n",
    "    for div in divs:\n",
    "        head = div.findAll('h2')[0]\n",
    "        # News title\n",
    "        titleinfo = head.find('a')\n",
    "        title = titleinfo.get_text()\n",
    "        # News url\n",
    "        url = titleinfo['href']\n",
    "        # Other info\n",
    "        otherinfo = head.find('span', {\"class\": \"fgray_time\"}).get_text()\n",
    "        source, date, time = otherinfo.split()\n",
    "        # News abstract\n",
    "        abstract = div.find('p', {\"class\": \"content\"}).get_text()\n",
    "        newsData[title] = [date, source, abstract, url]\n",
    "    return newsData\n",
    "\n",
    "\n",
    "if __name__ == \"__main__\":\n",
    "    compRawStr = 'Google'\n",
    "    # Dealing with character encoding\n",
    "    comp = compRawStr.encode('gbk')\n",
    "    d = {'q': comp}\n",
    "    pname = urlencode(d)\n",
    "    # Scraping and printing the first two pages\n",
    "    for page in range(3)[1:]:\n",
    "        newsData = get_list(pname, page)\n",
    "        for ky in newsData:\n",
    "            print('\\001'.join([ky] + newsData[ky])) # \"\\001\" as separator\n",
    "            "
   ]
  },
  {
   "cell_type": "code",
   "execution_count": null,
   "metadata": {},
   "outputs": [],
   "source": []
  }
 ],
 "metadata": {
  "kernelspec": {
   "display_name": "Python 3",
   "language": "python",
   "name": "python3"
  },
  "language_info": {
   "codemirror_mode": {
    "name": "ipython",
    "version": 3
   },
   "file_extension": ".py",
   "mimetype": "text/x-python",
   "name": "python",
   "nbconvert_exporter": "python",
   "pygments_lexer": "ipython3",
   "version": "3.7.1"
  }
 },
 "nbformat": 4,
 "nbformat_minor": 2
}
