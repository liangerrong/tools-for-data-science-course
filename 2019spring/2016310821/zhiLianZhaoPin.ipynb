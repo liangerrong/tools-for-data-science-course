{
 "cells": [
  {
   "cell_type": "code",
   "execution_count": 1,
   "metadata": {},
   "outputs": [],
   "source": [
    "from selenium import webdriver\n",
    "driver = webdriver.Firefox()"
   ]
  },
  {
   "cell_type": "code",
   "execution_count": 2,
   "metadata": {},
   "outputs": [],
   "source": [
    "driver.get('https://authserver.cufe.edu.cn/authserver/login?service=http%3A%2F%2Fi.cufe.edu.cn%2Flogin')"
   ]
  },
  {
   "cell_type": "code",
   "execution_count": 3,
   "metadata": {},
   "outputs": [],
   "source": [
    "driver.find_element_by_id('username').send_keys('2016310821')"
   ]
  },
  {
   "cell_type": "code",
   "execution_count": 8,
   "metadata": {},
   "outputs": [],
   "source": [
    "driver.find_element_by_id('password').send_keys('Ly@134948')"
   ]
  },
  {
   "cell_type": "code",
   "execution_count": 9,
   "metadata": {},
   "outputs": [],
   "source": [
    "driver.find_element_by_id('submit').click()"
   ]
  },
  {
   "cell_type": "code",
   "execution_count": 17,
   "metadata": {},
   "outputs": [
    {
     "data": {
      "text/plain": [
       "'一卡通余额：8.8元'"
      ]
     },
     "execution_count": 17,
     "metadata": {},
     "output_type": "execute_result"
    }
   ],
   "source": [
    "''.join(driver.find_elements_by_xpath('//ul[@class = \"alert_ul1\"]/li[2]/div')[0].text.split('\\n'))"
   ]
  },
  {
   "cell_type": "code",
   "execution_count": 18,
   "metadata": {},
   "outputs": [],
   "source": [
    "driver.close()"
   ]
  },
  {
   "cell_type": "code",
   "execution_count": 1,
   "metadata": {},
   "outputs": [],
   "source": [
    "from selenium import webdriver\n",
    "driver = webdriver.Firefox()"
   ]
  },
  {
   "cell_type": "code",
   "execution_count": 2,
   "metadata": {},
   "outputs": [],
   "source": [
    "driver.get('https://sou.zhaopin.com/?p=12&jl=530&kw=%E6%95%B0%E6%8D%AE%E6%9E%B6%E6%9E%84&kt=3&sf=0&st=0')"
   ]
  },
  {
   "cell_type": "code",
   "execution_count": 4,
   "metadata": {},
   "outputs": [],
   "source": [
    "warning_button = driver.find_elements_by_xpath('//div[@class = \"risk-warning__content\"]/button')\n",
    "if len(warning_button)>0 :\n",
    "    warning_button[0].click()"
   ]
  },
  {
   "cell_type": "code",
   "execution_count": 5,
   "metadata": {},
   "outputs": [
    {
     "data": {
      "text/plain": [
       "'产品经理'"
      ]
     },
     "execution_count": 5,
     "metadata": {},
     "output_type": "execute_result"
    }
   ],
   "source": [
    "driver.find_element_by_xpath('/html/body/div/div/div[4]/div[3]/div[2]/div/div[1]/div/a/div[1]/div[1]/span').text"
   ]
  },
  {
   "cell_type": "code",
   "execution_count": 6,
   "metadata": {},
   "outputs": [
    {
     "data": {
      "text/plain": [
       "'常宁数据产业(常州)有限公司'"
      ]
     },
     "execution_count": 6,
     "metadata": {},
     "output_type": "execute_result"
    }
   ],
   "source": [
    "driver.find_elements_by_xpath('/html/body/div/div/div[4]/div[3]/div[2]/div/div[1]/div/a/div[1]/div[2]/a')[0].text"
   ]
  },
  {
   "cell_type": "code",
   "execution_count": 7,
   "metadata": {},
   "outputs": [
    {
     "data": {
      "text/plain": [
       "'20K-40K'"
      ]
     },
     "execution_count": 7,
     "metadata": {},
     "output_type": "execute_result"
    }
   ],
   "source": [
    "driver.find_elements_by_xpath('/html/body/div/div/div[4]/div[3]/div[2]/div/div[1]/div/a/div[2]/div[1]/p')[0].text"
   ]
  },
  {
   "cell_type": "code",
   "execution_count": 8,
   "metadata": {},
   "outputs": [
    {
     "data": {
      "text/plain": [
       "['北京-海淀区', '5-10年', '本科']"
      ]
     },
     "execution_count": 8,
     "metadata": {},
     "output_type": "execute_result"
    }
   ],
   "source": [
    "driver.find_elements_by_xpath('/html/body/div/div/div[4]/div[3]/div[2]/div/div[1]/div/a/div[2]/div[1]/ul')[0].text.split('\\n')"
   ]
  },
  {
   "cell_type": "code",
   "execution_count": 9,
   "metadata": {},
   "outputs": [
    {
     "data": {
      "text/plain": [
       "['合资', '100-499人']"
      ]
     },
     "execution_count": 9,
     "metadata": {},
     "output_type": "execute_result"
    }
   ],
   "source": [
    "driver.find_elements_by_xpath('/html/body/div/div/div[4]/div[3]/div[2]/div/div[1]/div/a/div[2]/div[2]')[0].text.split(' ')"
   ]
  },
  {
   "cell_type": "code",
   "execution_count": 10,
   "metadata": {},
   "outputs": [
    {
     "data": {
      "text/plain": [
       "'创业公司\\n五险一金\\n绩效奖金\\n交通补助\\n通讯补助'"
      ]
     },
     "execution_count": 10,
     "metadata": {},
     "output_type": "execute_result"
    }
   ],
   "source": [
    "driver.find_element_by_xpath('/html/body/div/div/div[4]/div[3]/div[2]/div/div[1]/div/a/div[3]/div[1]').text"
   ]
  },
  {
   "cell_type": "code",
   "execution_count": 11,
   "metadata": {},
   "outputs": [],
   "source": [
    "driver.close()"
   ]
  },
  {
   "cell_type": "code",
   "execution_count": 16,
   "metadata": {
    "scrolled": false
   },
   "outputs": [
    {
     "name": "stderr",
     "output_type": "stream",
     "text": [
      "/usr/lib/python3/dist-packages/ipykernel_launcher.py:10: DeprecationWarning: use options instead of firefox_options\n",
      "  # Remove the CWD from sys.path while we load stuff.\n"
     ]
    },
    {
     "name": "stdout",
     "output_type": "stream",
     "text": [
      "Firefox Headless Browser Invoked\n"
     ]
    }
   ],
   "source": [
    "from selenium import webdriver\n",
    "import time\n",
    "from collections import OrderedDict\n",
    "from selenium.webdriver.firefox.options import Options\n",
    "\n",
    "Data = OrderedDict()\n",
    "\n",
    "options = Options()\n",
    "options.add_argument(\"--headless\")\n",
    "driver = webdriver.Firefox(firefox_options=options)\n",
    "print(\"Firefox Headless Browser Invoked\")\n",
    "\n",
    "driver.get('https://sou.zhaopin.com/?jl=530&sf=0&st=0&kw=%E6%95%B0%E6%8D%AE%E6%9E%B6%E6%9E%84&kt=3')\n",
    "\n",
    "warning_button = driver.find_elements_by_xpath('//div[@class = \"risk-warning__content\"]/button')\n",
    "if len(warning_button)>0 :\n",
    "    warning_button[0].click()\n",
    "count = 0\n",
    "while(True):\n",
    "    itemLen = len(driver.find_elements_by_xpath('//*[@id=\"listContent\"]/div'))\n",
    "    \n",
    "    for i in range(itemLen)[1: ]:\n",
    "        jobName = driver.find_element_by_xpath('/html/body/div/div/div[4]/div[3]/div[2]/div/div[%s]/div/a/div[1]/div[1]/span' % i).text\n",
    "        companyName = driver.find_elements_by_xpath('/html/body/div/div/div[4]/div[3]/div[2]/div/div[%s]/div/a/div[1]/div[2]/a' % i)[0].text\n",
    "        salary = driver.find_elements_by_xpath('/html/body/div/div/div[4]/div[3]/div[2]/div/div[%s]/div/a/div[2]/div[1]/p' % i)[0].text\n",
    "        location, exprience, education = driver.find_elements_by_xpath('/html/body/div/div/div[4]/div[3]/div[2]/div/div[%s]/div/a/div[2]/div[1]/ul' % i)[0].text.split('\\n')\n",
    "        compType, compScale = driver.find_elements_by_xpath('/html/body/div/div/div[4]/div[3]/div[2]/div/div[%s]/div/a/div[2]/div[2]' % i)[0].text.split(' ')\n",
    "        welfare = driver.find_element_by_xpath('/html/body/div/div/div[4]/div[3]/div[2]/div/div[%s]/div/a/div[3]/div[1]' % i).text\n",
    "        #time.sleep(2)\n",
    "        Data['%s' % (i+count*(itemLen-1))] = [jobName, companyName, salary, location, exprience, education,\n",
    "                                              compType, compScale, welfare]\n",
    "    count = count+1\n",
    "    print('Page %s collected...' % count)\n",
    "    \n",
    "    next_button = driver.find_elements_by_xpath('/html/body/div/div/div[4]/div[3]/div[2]/div/div[91]/div/div[2]/div/button[2]')[0]\n",
    "    if next_button.get_attribute('disabled') != 'true':\n",
    "        js = \"window.scrollTo(0,document.body.scrollHeight-1000)\"\n",
    "        driver.execute_script(js)\n",
    "        next_button.click()\n",
    "    else:\n",
    "        break\n",
    "    time.sleep(2)\n",
    "\n",
    "driver.close()"
   ]
  },
  {
   "cell_type": "code",
   "execution_count": 20,
   "metadata": {},
   "outputs": [],
   "source": [
    "import pandas\n",
    "dataF = pandas.DataFrame(Data)"
   ]
  },
  {
   "cell_type": "code",
   "execution_count": 17,
   "metadata": {},
   "outputs": [
    {
     "data": {
      "text/plain": [
       "1080"
      ]
     },
     "execution_count": 17,
     "metadata": {},
     "output_type": "execute_result"
    }
   ],
   "source": [
    "len(Data)"
   ]
  },
  {
   "cell_type": "code",
   "execution_count": 21,
   "metadata": {},
   "outputs": [],
   "source": [
    "dataF.to_csv('ZhaoPin.csv')"
   ]
  },
  {
   "cell_type": "code",
   "execution_count": 8,
   "metadata": {},
   "outputs": [
    {
     "data": {
      "text/plain": [
       "False"
      ]
     },
     "execution_count": 8,
     "metadata": {},
     "output_type": "execute_result"
    }
   ],
   "source": [
    "next_button = driver.find_elements_by_xpath('/html/body/div/div/div[4]/div[3]/div[2]/div/div[91]/div/div[2]/div/button[2]')\n",
    "len(next_button)\n",
    "next_button[0].get_attribute('disabled') != 'true'\n",
    "#next_button[0].get_attribute('disabled')"
   ]
  },
  {
   "cell_type": "code",
   "execution_count": 5,
   "metadata": {},
   "outputs": [],
   "source": [
    "from selenium.webdriver.common.by import By"
   ]
  }
 ],
 "metadata": {
  "kernelspec": {
   "display_name": "Python 3",
   "language": "python",
   "name": "python3"
  },
  "language_info": {
   "codemirror_mode": {
    "name": "ipython",
    "version": 3
   },
   "file_extension": ".py",
   "mimetype": "text/x-python",
   "name": "python",
   "nbconvert_exporter": "python",
   "pygments_lexer": "ipython3",
   "version": "3.7.3"
  }
 },
 "nbformat": 4,
 "nbformat_minor": 2
}
