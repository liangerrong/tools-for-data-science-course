{
 "cells": [
  {
   "cell_type": "code",
   "execution_count": 39,
   "metadata": {},
   "outputs": [
    {
     "data": {
      "text/plain": [
       "array([0.2485198 , 0.93421088, 0.86285297, ..., 0.18748492, 0.89013192,\n",
       "       0.00735607])"
      ]
     },
     "execution_count": 39,
     "metadata": {},
     "output_type": "execute_result"
    }
   ],
   "source": [
    "# Generate random numbers\n",
    "# sudo pip3 install numpy\n",
    "import numpy as np\n",
    "dt0 = np.random.rand(100000)\n",
    "dt0"
   ]
  },
  {
   "cell_type": "code",
   "execution_count": 40,
   "metadata": {},
   "outputs": [
    {
     "data": {
      "text/plain": [
       "7304.590424704"
      ]
     },
     "execution_count": 40,
     "metadata": {},
     "output_type": "execute_result"
    }
   ],
   "source": [
    "import time\n",
    "t0 = time.perf_counter()\n",
    "t0"
   ]
  },
  {
   "cell_type": "code",
   "execution_count": 41,
   "metadata": {},
   "outputs": [
    {
     "data": {
      "text/plain": [
       "0.5009782578047827"
      ]
     },
     "execution_count": 41,
     "metadata": {},
     "output_type": "execute_result"
    }
   ],
   "source": [
    "np.mean(dt0)"
   ]
  },
  {
   "cell_type": "code",
   "execution_count": 42,
   "metadata": {},
   "outputs": [
    {
     "data": {
      "text/plain": [
       "7304.973162692"
      ]
     },
     "execution_count": 42,
     "metadata": {},
     "output_type": "execute_result"
    }
   ],
   "source": [
    "t1 = time.perf_counter()\n",
    "t1"
   ]
  },
  {
   "cell_type": "code",
   "execution_count": 43,
   "metadata": {},
   "outputs": [
    {
     "data": {
      "text/plain": [
       "0.38273798800037184"
      ]
     },
     "execution_count": 43,
     "metadata": {},
     "output_type": "execute_result"
    }
   ],
   "source": [
    "t = t1 - t0\n",
    "t"
   ]
  },
  {
   "cell_type": "code",
   "execution_count": 44,
   "metadata": {},
   "outputs": [
    {
     "data": {
      "text/plain": [
       "array([[0.2485198 , 0.93421088, 0.86285297, ..., 0.689004  , 0.41705636,\n",
       "        0.12952297],\n",
       "       [0.1954476 , 0.76290239, 0.38592307, ..., 0.05149107, 0.29443052,\n",
       "        0.54641389],\n",
       "       [0.65561575, 0.40813295, 0.25538025, ..., 0.5720512 , 0.12245225,\n",
       "        0.42643927],\n",
       "       ...,\n",
       "       [0.78107663, 0.38932537, 0.86003837, ..., 0.95303572, 0.03893578,\n",
       "        0.39893431],\n",
       "       [0.91711082, 0.35019732, 0.61124395, ..., 0.76804808, 0.58829742,\n",
       "        0.02030701],\n",
       "       [0.62999806, 0.81679477, 0.30181765, ..., 0.18748492, 0.89013192,\n",
       "        0.00735607]])"
      ]
     },
     "execution_count": 44,
     "metadata": {},
     "output_type": "execute_result"
    }
   ],
   "source": [
    "# Divide the data into 10 parts\n",
    "dt1 = dt0.reshape(10, -1)\n",
    "dt1"
   ]
  },
  {
   "cell_type": "code",
   "execution_count": 45,
   "metadata": {},
   "outputs": [
    {
     "data": {
      "text/plain": [
       "matrix([[0.2485198 , 0.93421088, 0.86285297, ..., 0.689004  , 0.41705636,\n",
       "         0.12952297],\n",
       "        [0.1954476 , 0.76290239, 0.38592307, ..., 0.05149107, 0.29443052,\n",
       "         0.54641389],\n",
       "        [0.65561575, 0.40813295, 0.25538025, ..., 0.5720512 , 0.12245225,\n",
       "         0.42643927],\n",
       "        ...,\n",
       "        [0.78107663, 0.38932537, 0.86003837, ..., 0.95303572, 0.03893578,\n",
       "         0.39893431],\n",
       "        [0.91711082, 0.35019732, 0.61124395, ..., 0.76804808, 0.58829742,\n",
       "         0.02030701],\n",
       "        [0.62999806, 0.81679477, 0.30181765, ..., 0.18748492, 0.89013192,\n",
       "         0.00735607]])"
      ]
     },
     "execution_count": 45,
     "metadata": {},
     "output_type": "execute_result"
    }
   ],
   "source": [
    "# Convert data to matrix form\n",
    "mt = np.mat(dt1)\n",
    "mt"
   ]
  },
  {
   "cell_type": "code",
   "execution_count": 46,
   "metadata": {},
   "outputs": [
    {
     "data": {
      "text/plain": [
       "7305.633904656"
      ]
     },
     "execution_count": 46,
     "metadata": {},
     "output_type": "execute_result"
    }
   ],
   "source": [
    "t0 = time.perf_counter()\n",
    "t0"
   ]
  },
  {
   "cell_type": "code",
   "execution_count": 47,
   "metadata": {},
   "outputs": [
    {
     "data": {
      "text/plain": [
       "0.5009782578047828"
      ]
     },
     "execution_count": 47,
     "metadata": {},
     "output_type": "execute_result"
    }
   ],
   "source": [
    "np.mean(np.mean(mt, 1))"
   ]
  },
  {
   "cell_type": "code",
   "execution_count": 48,
   "metadata": {},
   "outputs": [
    {
     "data": {
      "text/plain": [
       "7305.942184228"
      ]
     },
     "execution_count": 48,
     "metadata": {},
     "output_type": "execute_result"
    }
   ],
   "source": [
    "t1 = time.perf_counter()\n",
    "t1"
   ]
  },
  {
   "cell_type": "code",
   "execution_count": 49,
   "metadata": {},
   "outputs": [
    {
     "data": {
      "text/plain": [
       "0.3082795720001741"
      ]
     },
     "execution_count": 49,
     "metadata": {},
     "output_type": "execute_result"
    }
   ],
   "source": [
    "t = t1 - t0\n",
    "t"
   ]
  },
  {
   "cell_type": "code",
   "execution_count": 50,
   "metadata": {},
   "outputs": [],
   "source": [
    "# Value: 0.5009782578047828 = 0.5009782578047828"
   ]
  },
  {
   "cell_type": "code",
   "execution_count": 51,
   "metadata": {},
   "outputs": [],
   "source": [
    "# Time(s): 0.3082795720001741 < 0.38273798800037184"
   ]
  },
  {
   "cell_type": "code",
   "execution_count": null,
   "metadata": {},
   "outputs": [],
   "source": [
    "# The degree of discrimination is not obvious"
   ]
  },
  {
   "cell_type": "code",
   "execution_count": null,
   "metadata": {},
   "outputs": [],
   "source": [
    "# Set a loop"
   ]
  },
  {
   "cell_type": "code",
   "execution_count": 180,
   "metadata": {},
   "outputs": [
    {
     "data": {
      "text/plain": [
       "9.676780027803033e-05"
      ]
     },
     "execution_count": 180,
     "metadata": {},
     "output_type": "execute_result"
    }
   ],
   "source": [
    "t = np.array([])\n",
    "for i in range(10000):\n",
    "    t0 = time.perf_counter()\n",
    "    np.mean(dt0)\n",
    "    t1 = time.perf_counter()\n",
    "    t = np.append(t, t1 - t0)\n",
    "np.mean(t)"
   ]
  },
  {
   "cell_type": "code",
   "execution_count": 181,
   "metadata": {},
   "outputs": [
    {
     "data": {
      "text/plain": [
       "8.619813929544762e-05"
      ]
     },
     "execution_count": 181,
     "metadata": {},
     "output_type": "execute_result"
    }
   ],
   "source": [
    "t = np.array([])\n",
    "for i in range(10000):\n",
    "    t0 = time.perf_counter()\n",
    "    np.mean(np.mean(mt, 1))\n",
    "    t1 = time.perf_counter()\n",
    "    t = np.append(t, t1 - t0)\n",
    "np.mean(t)"
   ]
  }
 ],
 "metadata": {
  "kernelspec": {
   "display_name": "Python 3",
   "language": "python",
   "name": "python3"
  },
  "language_info": {
   "codemirror_mode": {
    "name": "ipython",
    "version": 3
   },
   "file_extension": ".py",
   "mimetype": "text/x-python",
   "name": "python",
   "nbconvert_exporter": "python",
   "pygments_lexer": "ipython3",
   "version": "3.7.3"
  }
 },
 "nbformat": 4,
 "nbformat_minor": 2
}
