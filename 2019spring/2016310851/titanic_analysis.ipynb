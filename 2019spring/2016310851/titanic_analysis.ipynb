{
 "cells": [
  {
   "cell_type": "markdown",
   "metadata": {},
   "source": [
    "# 数据导入"
   ]
  },
  {
   "cell_type": "code",
   "execution_count": 1,
   "metadata": {
    "scrolled": true
   },
   "outputs": [],
   "source": [
    "import seaborn as sns\n",
    "titanic_df = sns.load_dataset(\"titanic\")"
   ]
  },
  {
   "cell_type": "code",
   "execution_count": 2,
   "metadata": {},
   "outputs": [
    {
     "data": {
      "text/plain": [
       "(891, 15)"
      ]
     },
     "execution_count": 2,
     "metadata": {},
     "output_type": "execute_result"
    }
   ],
   "source": [
    "titanic_df.shape"
   ]
  },
  {
   "cell_type": "code",
   "execution_count": 3,
   "metadata": {
    "scrolled": false
   },
   "outputs": [
    {
     "data": {
      "text/html": [
       "<div>\n",
       "<style scoped>\n",
       "    .dataframe tbody tr th:only-of-type {\n",
       "        vertical-align: middle;\n",
       "    }\n",
       "\n",
       "    .dataframe tbody tr th {\n",
       "        vertical-align: top;\n",
       "    }\n",
       "\n",
       "    .dataframe thead th {\n",
       "        text-align: right;\n",
       "    }\n",
       "</style>\n",
       "<table border=\"1\" class=\"dataframe\">\n",
       "  <thead>\n",
       "    <tr style=\"text-align: right;\">\n",
       "      <th></th>\n",
       "      <th>survived</th>\n",
       "      <th>pclass</th>\n",
       "      <th>sex</th>\n",
       "      <th>age</th>\n",
       "      <th>sibsp</th>\n",
       "      <th>parch</th>\n",
       "      <th>fare</th>\n",
       "      <th>embarked</th>\n",
       "      <th>class</th>\n",
       "      <th>who</th>\n",
       "      <th>adult_male</th>\n",
       "      <th>deck</th>\n",
       "      <th>embark_town</th>\n",
       "      <th>alive</th>\n",
       "      <th>alone</th>\n",
       "    </tr>\n",
       "  </thead>\n",
       "  <tbody>\n",
       "    <tr>\n",
       "      <th>0</th>\n",
       "      <td>0</td>\n",
       "      <td>3</td>\n",
       "      <td>male</td>\n",
       "      <td>22.0</td>\n",
       "      <td>1</td>\n",
       "      <td>0</td>\n",
       "      <td>7.2500</td>\n",
       "      <td>S</td>\n",
       "      <td>Third</td>\n",
       "      <td>man</td>\n",
       "      <td>True</td>\n",
       "      <td>NaN</td>\n",
       "      <td>Southampton</td>\n",
       "      <td>no</td>\n",
       "      <td>False</td>\n",
       "    </tr>\n",
       "    <tr>\n",
       "      <th>1</th>\n",
       "      <td>1</td>\n",
       "      <td>1</td>\n",
       "      <td>female</td>\n",
       "      <td>38.0</td>\n",
       "      <td>1</td>\n",
       "      <td>0</td>\n",
       "      <td>71.2833</td>\n",
       "      <td>C</td>\n",
       "      <td>First</td>\n",
       "      <td>woman</td>\n",
       "      <td>False</td>\n",
       "      <td>C</td>\n",
       "      <td>Cherbourg</td>\n",
       "      <td>yes</td>\n",
       "      <td>False</td>\n",
       "    </tr>\n",
       "    <tr>\n",
       "      <th>2</th>\n",
       "      <td>1</td>\n",
       "      <td>3</td>\n",
       "      <td>female</td>\n",
       "      <td>26.0</td>\n",
       "      <td>0</td>\n",
       "      <td>0</td>\n",
       "      <td>7.9250</td>\n",
       "      <td>S</td>\n",
       "      <td>Third</td>\n",
       "      <td>woman</td>\n",
       "      <td>False</td>\n",
       "      <td>NaN</td>\n",
       "      <td>Southampton</td>\n",
       "      <td>yes</td>\n",
       "      <td>True</td>\n",
       "    </tr>\n",
       "    <tr>\n",
       "      <th>3</th>\n",
       "      <td>1</td>\n",
       "      <td>1</td>\n",
       "      <td>female</td>\n",
       "      <td>35.0</td>\n",
       "      <td>1</td>\n",
       "      <td>0</td>\n",
       "      <td>53.1000</td>\n",
       "      <td>S</td>\n",
       "      <td>First</td>\n",
       "      <td>woman</td>\n",
       "      <td>False</td>\n",
       "      <td>C</td>\n",
       "      <td>Southampton</td>\n",
       "      <td>yes</td>\n",
       "      <td>False</td>\n",
       "    </tr>\n",
       "    <tr>\n",
       "      <th>4</th>\n",
       "      <td>0</td>\n",
       "      <td>3</td>\n",
       "      <td>male</td>\n",
       "      <td>35.0</td>\n",
       "      <td>0</td>\n",
       "      <td>0</td>\n",
       "      <td>8.0500</td>\n",
       "      <td>S</td>\n",
       "      <td>Third</td>\n",
       "      <td>man</td>\n",
       "      <td>True</td>\n",
       "      <td>NaN</td>\n",
       "      <td>Southampton</td>\n",
       "      <td>no</td>\n",
       "      <td>True</td>\n",
       "    </tr>\n",
       "  </tbody>\n",
       "</table>\n",
       "</div>"
      ],
      "text/plain": [
       "   survived  pclass     sex   age  sibsp  parch     fare embarked  class  \\\n",
       "0         0       3    male  22.0      1      0   7.2500        S  Third   \n",
       "1         1       1  female  38.0      1      0  71.2833        C  First   \n",
       "2         1       3  female  26.0      0      0   7.9250        S  Third   \n",
       "3         1       1  female  35.0      1      0  53.1000        S  First   \n",
       "4         0       3    male  35.0      0      0   8.0500        S  Third   \n",
       "\n",
       "     who  adult_male deck  embark_town alive  alone  \n",
       "0    man        True  NaN  Southampton    no  False  \n",
       "1  woman       False    C    Cherbourg   yes  False  \n",
       "2  woman       False  NaN  Southampton   yes   True  \n",
       "3  woman       False    C  Southampton   yes  False  \n",
       "4    man        True  NaN  Southampton    no   True  "
      ]
     },
     "execution_count": 3,
     "metadata": {},
     "output_type": "execute_result"
    }
   ],
   "source": [
    "titanic_df.head()"
   ]
  },
  {
   "cell_type": "markdown",
   "metadata": {},
   "source": [
    "## 原始数据说明表"
   ]
  },
  {
   "cell_type": "markdown",
   "metadata": {},
   "source": [
    "<style type=\"text/css\">\n",
    ".tg  {border-collapse:collapse;border-spacing:0;}\n",
    ".tg td{font-family:Arial, sans-serif;font-size:14px;padding:10px 5px;border-style:solid;border-width:1px;overflow:hidden;word-break:normal;border-color:black;}\n",
    ".tg th{font-family:Arial, sans-serif;font-size:14px;font-weight:normal;padding:10px 5px;border-style:solid;border-width:1px;overflow:hidden;word-break:normal;border-color:black;}\n",
    ".tg .tg-0pky{border-color:inherit;text-align:left;vertical-align:top}\n",
    "</style>\n",
    "<table class=\"tg\">\n",
    "  <tr>\n",
    "    <th class=\"tg-0pky\">变量名</th>\n",
    "    <th class=\"tg-0pky\">解释</th>\n",
    "    <th class=\"tg-0pky\">变量类型</th>\n",
    "    <th class=\"tg-0pky\">取值范围</th>\n",
    "    <th class=\"tg-0pky\">备注</th>\n",
    "  </tr>\n",
    "  <tr>\n",
    "    <td class=\"tg-0pky\">survived</td>\n",
    "    <td class=\"tg-0pky\">是否生存</td>\n",
    "    <td class=\"tg-0pky\">分类变量</td>\n",
    "    <td class=\"tg-0pky\">1=生存，0=死亡</td>\n",
    "    <td class=\"tg-0pky\">生存率38.38%</td>\n",
    "  </tr>\n",
    "  <tr>\n",
    "    <td class=\"tg-0pky\">pclass</td>\n",
    "    <td class=\"tg-0pky\">船舱等级</td>\n",
    "    <td class=\"tg-0pky\">分类变量</td>\n",
    "    <td class=\"tg-0pky\">1=一等，2=二等，3=三等</td>\n",
    "    <td class=\"tg-0pky\">----</td>\n",
    "  </tr>\n",
    "  <tr>\n",
    "    <td class=\"tg-0pky\">sex</td>\n",
    "    <td class=\"tg-0pky\">性别</td>\n",
    "    <td class=\"tg-0pky\">分类变量</td>\n",
    "    <td class=\"tg-0pky\">male=男性，female=女性</td>\n",
    "    <td class=\"tg-0pky\">----</td>\n",
    "  </tr>\n",
    "  <tr>\n",
    "    <td class=\"tg-0pky\">age</td>\n",
    "    <td class=\"tg-0pky\">年龄</td>\n",
    "    <td class=\"tg-0pky\">连续变量</td>\n",
    "    <td class=\"tg-0pky\">0.42~80岁</td>\n",
    "    <td class=\"tg-0pky\">缺失率19.87%</td>\n",
    "  </tr>\n",
    "  <tr>\n",
    "    <td class=\"tg-0pky\">sibsp</td>\n",
    "    <td class=\"tg-0pky\">兄弟姐妹人数</td>\n",
    "    <td class=\"tg-0pky\">连续变量</td>\n",
    "    <td class=\"tg-0pky\">0~8人</td>\n",
    "    <td class=\"tg-0pky\">0人占比68.24%</td>\n",
    "  </tr>\n",
    "  <tr>\n",
    "    <td class=\"tg-0pky\">parch</td>\n",
    "    <td class=\"tg-0pky\">父母长辈人数</td>\n",
    "    <td class=\"tg-0pky\">连续变量</td>\n",
    "    <td class=\"tg-0pky\">0~6人</td>\n",
    "    <td class=\"tg-0pky\">0人占比76.09%</td>\n",
    "  </tr>\n",
    "  <tr>\n",
    "    <td class=\"tg-0pky\">fare</td>\n",
    "    <td class=\"tg-0pky\">船费</td>\n",
    "    <td class=\"tg-0pky\">连续变量</td>\n",
    "    <td class=\"tg-0pky\">0~512.329200</td>\n",
    "    <td class=\"tg-0pky\">----</td>\n",
    "  </tr>\n",
    "  <tr>\n",
    "    <td class=\"tg-0pky\">embarked</td>\n",
    "    <td class=\"tg-0pky\">登船地点</td>\n",
    "    <td class=\"tg-0pky\">分类变量</td>\n",
    "    <td class=\"tg-0pky\">S，C，Q</td>\n",
    "    <td class=\"tg-0pky\">缺失率0.22%</td>\n",
    "  </tr>\n",
    "  <tr>\n",
    "    <td class=\"tg-0pky\">class</td>\n",
    "    <td class=\"tg-0pky\">船舱等级</td>\n",
    "    <td class=\"tg-0pky\">分类变量</td>\n",
    "    <td class=\"tg-0pky\">First，Second，Third</td>\n",
    "    <td class=\"tg-0pky\">----</td>\n",
    "  </tr>\n",
    "  <tr>\n",
    "    <td class=\"tg-0pky\">who</td>\n",
    "    <td class=\"tg-0pky\">身份</td>\n",
    "    <td class=\"tg-0pky\">分类变量</td>\n",
    "    <td class=\"tg-0pky\">man=男人，woman=妇女，child=儿童</td>\n",
    "    <td class=\"tg-0pky\">----</td>\n",
    "  </tr>\n",
    "  <tr>\n",
    "    <td class=\"tg-0pky\">adult_male</td>\n",
    "    <td class=\"tg-0pky\">是否成年男性</td>\n",
    "    <td class=\"tg-0pky\">分类变量</td>\n",
    "    <td class=\"tg-0pky\">True=是，False=否</td>\n",
    "    <td class=\"tg-0pky\">----</td>\n",
    "  </tr>\n",
    "  <tr>\n",
    "    <td class=\"tg-0pky\">deck</td>\n",
    "    <td class=\"tg-0pky\">甲板</td>\n",
    "    <td class=\"tg-0pky\">分类变量</td>\n",
    "    <td class=\"tg-0pky\">A，B，C，D，F，G</td>\n",
    "    <td class=\"tg-0pky\">缺失率77.22%</td>\n",
    "  </tr>\n",
    "  <tr>\n",
    "    <td class=\"tg-0pky\">embark_town</td>\n",
    "    <td class=\"tg-0pky\">登船城镇</td>\n",
    "    <td class=\"tg-0pky\">分类变量</td>\n",
    "    <td class=\"tg-0pky\">Southampton，Cherbourg，Queenstown</td>\n",
    "    <td class=\"tg-0pky\">缺失率0.22%</td>\n",
    "  </tr>\n",
    "  <tr>\n",
    "    <td class=\"tg-0pky\">alive</td>\n",
    "    <td class=\"tg-0pky\">是否生存</td>\n",
    "    <td class=\"tg-0pky\">分类变量</td>\n",
    "    <td class=\"tg-0pky\">yes=是，no=否</td>\n",
    "    <td class=\"tg-0pky\">----</td>\n",
    "  </tr>\n",
    "  <tr>\n",
    "    <td class=\"tg-0pky\">alone</td>\n",
    "    <td class=\"tg-0pky\">是否一人</td>\n",
    "    <td class=\"tg-0pky\">分类变量</td>\n",
    "    <td class=\"tg-0pky\">True=是，False=否</td>\n",
    "    <td class=\"tg-0pky\">----</td>\n",
    "  </tr>\n",
    "</table>"
   ]
  },
  {
   "cell_type": "markdown",
   "metadata": {},
   "source": [
    "# 数据预处理"
   ]
  },
  {
   "cell_type": "markdown",
   "metadata": {},
   "source": [
    "## 选择变量"
   ]
  },
  {
   "cell_type": "code",
   "execution_count": 4,
   "metadata": {},
   "outputs": [],
   "source": [
    "titanic_sel = titanic_df.drop(columns=[\"sex\",\"class\",\"adult_male\",\"deck\",\"embark_town\",\"alive\",\"alone\"])"
   ]
  },
  {
   "cell_type": "code",
   "execution_count": 5,
   "metadata": {},
   "outputs": [
    {
     "data": {
      "text/html": [
       "<div>\n",
       "<style scoped>\n",
       "    .dataframe tbody tr th:only-of-type {\n",
       "        vertical-align: middle;\n",
       "    }\n",
       "\n",
       "    .dataframe tbody tr th {\n",
       "        vertical-align: top;\n",
       "    }\n",
       "\n",
       "    .dataframe thead th {\n",
       "        text-align: right;\n",
       "    }\n",
       "</style>\n",
       "<table border=\"1\" class=\"dataframe\">\n",
       "  <thead>\n",
       "    <tr style=\"text-align: right;\">\n",
       "      <th></th>\n",
       "      <th>survived</th>\n",
       "      <th>pclass</th>\n",
       "      <th>age</th>\n",
       "      <th>sibsp</th>\n",
       "      <th>parch</th>\n",
       "      <th>fare</th>\n",
       "      <th>embarked</th>\n",
       "      <th>who</th>\n",
       "    </tr>\n",
       "  </thead>\n",
       "  <tbody>\n",
       "    <tr>\n",
       "      <th>0</th>\n",
       "      <td>0</td>\n",
       "      <td>3</td>\n",
       "      <td>22.0</td>\n",
       "      <td>1</td>\n",
       "      <td>0</td>\n",
       "      <td>7.2500</td>\n",
       "      <td>S</td>\n",
       "      <td>man</td>\n",
       "    </tr>\n",
       "    <tr>\n",
       "      <th>1</th>\n",
       "      <td>1</td>\n",
       "      <td>1</td>\n",
       "      <td>38.0</td>\n",
       "      <td>1</td>\n",
       "      <td>0</td>\n",
       "      <td>71.2833</td>\n",
       "      <td>C</td>\n",
       "      <td>woman</td>\n",
       "    </tr>\n",
       "    <tr>\n",
       "      <th>2</th>\n",
       "      <td>1</td>\n",
       "      <td>3</td>\n",
       "      <td>26.0</td>\n",
       "      <td>0</td>\n",
       "      <td>0</td>\n",
       "      <td>7.9250</td>\n",
       "      <td>S</td>\n",
       "      <td>woman</td>\n",
       "    </tr>\n",
       "    <tr>\n",
       "      <th>3</th>\n",
       "      <td>1</td>\n",
       "      <td>1</td>\n",
       "      <td>35.0</td>\n",
       "      <td>1</td>\n",
       "      <td>0</td>\n",
       "      <td>53.1000</td>\n",
       "      <td>S</td>\n",
       "      <td>woman</td>\n",
       "    </tr>\n",
       "    <tr>\n",
       "      <th>4</th>\n",
       "      <td>0</td>\n",
       "      <td>3</td>\n",
       "      <td>35.0</td>\n",
       "      <td>0</td>\n",
       "      <td>0</td>\n",
       "      <td>8.0500</td>\n",
       "      <td>S</td>\n",
       "      <td>man</td>\n",
       "    </tr>\n",
       "  </tbody>\n",
       "</table>\n",
       "</div>"
      ],
      "text/plain": [
       "   survived  pclass   age  sibsp  parch     fare embarked    who\n",
       "0         0       3  22.0      1      0   7.2500        S    man\n",
       "1         1       1  38.0      1      0  71.2833        C  woman\n",
       "2         1       3  26.0      0      0   7.9250        S  woman\n",
       "3         1       1  35.0      1      0  53.1000        S  woman\n",
       "4         0       3  35.0      0      0   8.0500        S    man"
      ]
     },
     "execution_count": 5,
     "metadata": {},
     "output_type": "execute_result"
    }
   ],
   "source": [
    "titanic_sel.head()"
   ]
  },
  {
   "cell_type": "markdown",
   "metadata": {},
   "source": [
    "## 缺失值填充"
   ]
  },
  {
   "cell_type": "code",
   "execution_count": 6,
   "metadata": {},
   "outputs": [],
   "source": [
    "import pandas as pd\n",
    "age_mean = titanic_sel[\"age\"].mean()\n",
    "titanic_sel[\"age\"].fillna(age_mean, inplace = True)\n",
    "embarked_mode = titanic_sel[\"embarked\"].mode()[0]\n",
    "titanic_sel[\"embarked\"].fillna(embarked_mode, inplace = True)"
   ]
  },
  {
   "cell_type": "code",
   "execution_count": 7,
   "metadata": {},
   "outputs": [
    {
     "data": {
      "text/plain": [
       "array([  0.42      ,   0.67      ,   0.75      ,   0.83      ,\n",
       "         0.92      ,  14.5       ,  20.5       ,  23.5       ,\n",
       "        24.5       ,  28.5       ,  29.69911765,  30.5       ,\n",
       "        32.5       ,  34.5       ,  36.5       ,  40.5       ,\n",
       "        45.5       ,  55.5       ,  70.5       ])"
      ]
     },
     "execution_count": 7,
     "metadata": {},
     "output_type": "execute_result"
    }
   ],
   "source": [
    "import numpy as np\n",
    "TorF = titanic_sel[\"age\"].map(lambda x: x.is_integer())\n",
    "np.unique([titanic_sel.loc[i,\"age\"] for i in range(titanic_sel.shape[0]) if TorF[i]==False])"
   ]
  },
  {
   "cell_type": "code",
   "execution_count": 8,
   "metadata": {},
   "outputs": [],
   "source": [
    "# 年龄上取整\n",
    "titanic_sel[\"age\"] = np.ceil(titanic_sel[\"age\"])"
   ]
  },
  {
   "cell_type": "code",
   "execution_count": 9,
   "metadata": {},
   "outputs": [
    {
     "data": {
      "text/plain": [
       "0    678\n",
       "1    118\n",
       "2     80\n",
       "5      5\n",
       "3      5\n",
       "4      4\n",
       "6      1\n",
       "Name: parch, dtype: int64"
      ]
     },
     "execution_count": 9,
     "metadata": {},
     "output_type": "execute_result"
    }
   ],
   "source": [
    "titanic_sel[\"parch\"].value_counts()"
   ]
  },
  {
   "cell_type": "code",
   "execution_count": 10,
   "metadata": {},
   "outputs": [
    {
     "data": {
      "text/plain": [
       "0    608\n",
       "1    209\n",
       "2     28\n",
       "4     18\n",
       "3     16\n",
       "8      7\n",
       "5      5\n",
       "Name: sibsp, dtype: int64"
      ]
     },
     "execution_count": 10,
     "metadata": {},
     "output_type": "execute_result"
    }
   ],
   "source": [
    "titanic_sel[\"sibsp\"].value_counts()"
   ]
  },
  {
   "cell_type": "code",
   "execution_count": 11,
   "metadata": {},
   "outputs": [],
   "source": [
    "titanic_sel[\"parch\"].replace([3, 4, 5, 6], [2, 2, 2, 2], inplace = True)\n",
    "titanic_sel[\"sibsp\"].replace([3, 4, 5, 8], [2, 2, 2, 2], inplace = True)"
   ]
  },
  {
   "cell_type": "markdown",
   "metadata": {},
   "source": [
    "## 处理后数据说明表"
   ]
  },
  {
   "cell_type": "markdown",
   "metadata": {},
   "source": [
    "<style type=\"text/css\">\n",
    ".tg  {border-collapse:collapse;border-spacing:0;}\n",
    ".tg td{font-family:Arial, sans-serif;font-size:14px;padding:10px 5px;border-style:solid;border-width:1px;overflow:hidden;word-break:normal;border-color:black;}\n",
    ".tg th{font-family:Arial, sans-serif;font-size:14px;font-weight:normal;padding:10px 5px;border-style:solid;border-width:1px;overflow:hidden;word-break:normal;border-color:black;}\n",
    ".tg .tg-0pky{border-color:inherit;text-align:left;vertical-align:top}\n",
    "</style>\n",
    "<table class=\"tg\">\n",
    "  <tr>\n",
    "    <th class=\"tg-0pky\">变量名</th>\n",
    "    <th class=\"tg-0pky\">解释</th>\n",
    "    <th class=\"tg-0pky\">变量类型</th>\n",
    "    <th class=\"tg-0pky\">取值范围</th>\n",
    "    <th class=\"tg-0pky\">备注</th>\n",
    "  </tr>\n",
    "  <tr>\n",
    "    <td class=\"tg-0pky\">survived</td>\n",
    "    <td class=\"tg-0pky\">是否生存</td>\n",
    "    <td class=\"tg-0pky\">分类变量</td>\n",
    "    <td class=\"tg-0pky\">1=生存，0=死亡</td>\n",
    "    <td class=\"tg-0pky\">生存率38.38%</td>\n",
    "  </tr>\n",
    "  <tr>\n",
    "    <td class=\"tg-0pky\">pclass</td>\n",
    "    <td class=\"tg-0pky\">船舱等级</td>\n",
    "    <td class=\"tg-0pky\">分类变量</td>\n",
    "    <td class=\"tg-0pky\">1=一等，2=二等，3=三等</td>\n",
    "    <td class=\"tg-0pky\">----</td>\n",
    "  </tr>\n",
    "  <tr>\n",
    "    <td class=\"tg-0pky\">age</td>\n",
    "    <td class=\"tg-0pky\">年龄</td>\n",
    "    <td class=\"tg-0pky\">连续变量</td>\n",
    "    <td class=\"tg-0pky\">1~80岁</td>\n",
    "    <td class=\"tg-0pky\">----</td>\n",
    "  </tr>\n",
    "  <tr>\n",
    "    <td class=\"tg-0pky\">sibsp</td>\n",
    "    <td class=\"tg-0pky\">兄弟姐妹人数</td>\n",
    "    <td class=\"tg-0pky\">连续变量</td>\n",
    "    <td class=\"tg-0pky\">0=0人，1=1人，2=2人及以上</td>\n",
    "    <td class=\"tg-0pky\">0人占比68.24%</td>\n",
    "  </tr>\n",
    "  <tr>\n",
    "    <td class=\"tg-0pky\">parch</td>\n",
    "    <td class=\"tg-0pky\">父母长辈人数</td>\n",
    "    <td class=\"tg-0pky\">连续变量</td>\n",
    "    <td class=\"tg-0pky\">0=0人，1=1人，2=2人及以上</td>\n",
    "    <td class=\"tg-0pky\">0人占比76.09%</td>\n",
    "  </tr>\n",
    "  <tr>\n",
    "    <td class=\"tg-0pky\">fare</td>\n",
    "    <td class=\"tg-0pky\">船费</td>\n",
    "    <td class=\"tg-0pky\">连续变量</td>\n",
    "    <td class=\"tg-0pky\">0~512.329200</td>\n",
    "    <td class=\"tg-0pky\">----</td>\n",
    "  </tr>\n",
    "  <tr>\n",
    "    <td class=\"tg-0pky\">embarked_Q</td>\n",
    "    <td class=\"tg-0pky\">登船地点</td>\n",
    "    <td class=\"tg-0pky\">分类变量</td>\n",
    "    <td class=\"tg-0pky\">S，C，Q</td>\n",
    "    <td class=\"tg-0pky\">----</td>\n",
    "  </tr>\n",
    "  <tr>\n",
    "    <td class=\"tg-0pky\">who</td>\n",
    "    <td class=\"tg-0pky\">身份</td>\n",
    "    <td class=\"tg-0pky\">分类变量</td>\n",
    "    <td class=\"tg-0pky\">man=男人，woman=妇女，child=儿童</td>\n",
    "    <td class=\"tg-0pky\">----</td>\n",
    "  </tr>\n",
    "</table>"
   ]
  },
  {
   "cell_type": "markdown",
   "metadata": {},
   "source": [
    "# 探索性分析"
   ]
  },
  {
   "cell_type": "code",
   "execution_count": 12,
   "metadata": {
    "scrolled": false
   },
   "outputs": [
    {
     "data": {
      "text/plain": [
       "Text(0.5,0.05,'图1 生存与变量关系图\\n（a）生存与身份和船舱等级柱状图     （b）生存与船费小提琴图')"
      ]
     },
     "execution_count": 12,
     "metadata": {},
     "output_type": "execute_result"
    },
    {
     "data": {
      "image/png": "[encoded data removed]",
      "text/plain": [
       "<Figure size 1080x504 with 2 Axes>"
      ]
     },
     "metadata": {},
     "output_type": "display_data"
    }
   ],
   "source": [
    "import seaborn as sns\n",
    "import matplotlib.pyplot as plt\n",
    "from pylab import mpl\n",
    "mpl.rcParams['font.sans-serif'] = ['FangSong'] # 指定默认字体\n",
    "mpl.rcParams['axes.unicode_minus'] = False # 解决保存图像是负号'-'显示为方块的问题\n",
    "myfontsize = 20\n",
    "\n",
    "fig, ax= plt.subplots(figsize = (15, 7), nrows=1, ncols=2)\n",
    "sns.set_style('whitegrid',{'font.sans-serif':['simhei','Arial']}) #解决seaborn中文问题\n",
    "ax_price = sns.barplot(data = titanic_sel, x='who', y='survived', hue=\"pclass\", ax=ax[0])\n",
    "ax_price.set_xlabel('身份',fontsize=myfontsize) # x轴标签\n",
    "ax_price.set_ylabel('是否生存    (a)',fontsize=myfontsize) \n",
    "ax_price.tick_params(axis='both',labelsize=myfontsize) # y轴刻度大小\n",
    "ax_price.set_title('') \n",
    "\n",
    "ax_price = sns.violinplot(data = titanic_sel, x='survived', y='fare', ax=ax[1])\n",
    "ax_price.set_xlabel('是否生存',fontsize=myfontsize) # x轴标签\n",
    "ax_price.set_ylabel('船费    (b)',fontsize=myfontsize) \n",
    "ax_price.tick_params(axis='both',labelsize=myfontsize) # y轴刻度大小\n",
    "ax_price.set_title('') # 设置标题\n",
    "fig.suptitle(\"图1 生存与变量关系图\\n（a）生存与身份和船舱等级柱状图     （b）生存与船费小提琴图\", \n",
    "            x = 0.5, y = 0.05, fontsize = myfontsize)"
   ]
  },
  {
   "cell_type": "markdown",
   "metadata": {},
   "source": [
    "从图1中可以发现以下信息：   \n",
    "图（a）中\n",
    "- 妇女和儿童的存活率明显高于成年男性的存活率\n",
    "- 船舱等级高的人群存活率较高，尤其是在成年人群体中尤为明显，三等舱的人群存活率比较低  \n",
    "\n",
    "图（b）中\n",
    "- 存活人群的船费平均值略高于未存活人群，且其船费方差比较大"
   ]
  },
  {
   "cell_type": "markdown",
   "metadata": {},
   "source": [
    "# 建立模型"
   ]
  },
  {
   "cell_type": "markdown",
   "metadata": {},
   "source": [
    "## 设置哑变量"
   ]
  },
  {
   "cell_type": "code",
   "execution_count": 13,
   "metadata": {},
   "outputs": [],
   "source": [
    "titanic_sel = pd.get_dummies(titanic_sel, drop_first=True, prefix=[\"embarked\", \"who\"], columns=[\"embarked\", \"who\"])"
   ]
  },
  {
   "cell_type": "code",
   "execution_count": 14,
   "metadata": {},
   "outputs": [
    {
     "data": {
      "text/html": [
       "<div>\n",
       "<style scoped>\n",
       "    .dataframe tbody tr th:only-of-type {\n",
       "        vertical-align: middle;\n",
       "    }\n",
       "\n",
       "    .dataframe tbody tr th {\n",
       "        vertical-align: top;\n",
       "    }\n",
       "\n",
       "    .dataframe thead th {\n",
       "        text-align: right;\n",
       "    }\n",
       "</style>\n",
       "<table border=\"1\" class=\"dataframe\">\n",
       "  <thead>\n",
       "    <tr style=\"text-align: right;\">\n",
       "      <th></th>\n",
       "      <th>survived</th>\n",
       "      <th>pclass</th>\n",
       "      <th>age</th>\n",
       "      <th>sibsp</th>\n",
       "      <th>parch</th>\n",
       "      <th>fare</th>\n",
       "      <th>embarked_Q</th>\n",
       "      <th>embarked_S</th>\n",
       "      <th>who_man</th>\n",
       "      <th>who_woman</th>\n",
       "    </tr>\n",
       "  </thead>\n",
       "  <tbody>\n",
       "    <tr>\n",
       "      <th>0</th>\n",
       "      <td>0</td>\n",
       "      <td>3</td>\n",
       "      <td>22.0</td>\n",
       "      <td>1</td>\n",
       "      <td>0</td>\n",
       "      <td>7.2500</td>\n",
       "      <td>0</td>\n",
       "      <td>1</td>\n",
       "      <td>1</td>\n",
       "      <td>0</td>\n",
       "    </tr>\n",
       "    <tr>\n",
       "      <th>1</th>\n",
       "      <td>1</td>\n",
       "      <td>1</td>\n",
       "      <td>38.0</td>\n",
       "      <td>1</td>\n",
       "      <td>0</td>\n",
       "      <td>71.2833</td>\n",
       "      <td>0</td>\n",
       "      <td>0</td>\n",
       "      <td>0</td>\n",
       "      <td>1</td>\n",
       "    </tr>\n",
       "    <tr>\n",
       "      <th>2</th>\n",
       "      <td>1</td>\n",
       "      <td>3</td>\n",
       "      <td>26.0</td>\n",
       "      <td>0</td>\n",
       "      <td>0</td>\n",
       "      <td>7.9250</td>\n",
       "      <td>0</td>\n",
       "      <td>1</td>\n",
       "      <td>0</td>\n",
       "      <td>1</td>\n",
       "    </tr>\n",
       "    <tr>\n",
       "      <th>3</th>\n",
       "      <td>1</td>\n",
       "      <td>1</td>\n",
       "      <td>35.0</td>\n",
       "      <td>1</td>\n",
       "      <td>0</td>\n",
       "      <td>53.1000</td>\n",
       "      <td>0</td>\n",
       "      <td>1</td>\n",
       "      <td>0</td>\n",
       "      <td>1</td>\n",
       "    </tr>\n",
       "    <tr>\n",
       "      <th>4</th>\n",
       "      <td>0</td>\n",
       "      <td>3</td>\n",
       "      <td>35.0</td>\n",
       "      <td>0</td>\n",
       "      <td>0</td>\n",
       "      <td>8.0500</td>\n",
       "      <td>0</td>\n",
       "      <td>1</td>\n",
       "      <td>1</td>\n",
       "      <td>0</td>\n",
       "    </tr>\n",
       "  </tbody>\n",
       "</table>\n",
       "</div>"
      ],
      "text/plain": [
       "   survived  pclass   age  sibsp  parch     fare  embarked_Q  embarked_S  \\\n",
       "0         0       3  22.0      1      0   7.2500           0           1   \n",
       "1         1       1  38.0      1      0  71.2833           0           0   \n",
       "2         1       3  26.0      0      0   7.9250           0           1   \n",
       "3         1       1  35.0      1      0  53.1000           0           1   \n",
       "4         0       3  35.0      0      0   8.0500           0           1   \n",
       "\n",
       "   who_man  who_woman  \n",
       "0        1          0  \n",
       "1        0          1  \n",
       "2        0          1  \n",
       "3        0          1  \n",
       "4        1          0  "
      ]
     },
     "execution_count": 14,
     "metadata": {},
     "output_type": "execute_result"
    }
   ],
   "source": [
    "titanic_sel.head()"
   ]
  },
  {
   "cell_type": "markdown",
   "metadata": {},
   "source": [
    "## 拆分数据"
   ]
  },
  {
   "cell_type": "code",
   "execution_count": 15,
   "metadata": {},
   "outputs": [],
   "source": [
    "import sklearn\n",
    "from sklearn.preprocessing import StandardScaler\n",
    "from sklearn.model_selection import train_test_split\n",
    "# discrete_var = titanic_sel.columns.drop([\"age\", \"fare\"])\n",
    "# titanic_sel[discrete_var] = titanic_sel[discrete_var].astype(\"category\")\n",
    "X_train, X_test, y_train, y_test = train_test_split(titanic_sel.drop(\"survived\", axis=1), titanic_sel.loc[:,\"survived\"], \n",
    "                                                    test_size=0.3, random_state=42, stratify = titanic_sel.survived)\n",
    "ss = StandardScaler()\n",
    "scaler = ss.fit(X_train[[\"age\", \"fare\"]])\n",
    "X_train[[\"age\", \"fare\"]] = scaler.transform(X_train[[\"age\", \"fare\"]])\n",
    "X_test[[\"age\", \"fare\"]] = scaler.transform(X_test[[\"age\", \"fare\"]])"
   ]
  },
  {
   "cell_type": "markdown",
   "metadata": {},
   "source": [
    "## 选择参数"
   ]
  },
  {
   "cell_type": "code",
   "execution_count": 17,
   "metadata": {
    "scrolled": true
   },
   "outputs": [],
   "source": [
    "import sklearn\n",
    "from sklearn.linear_model import LogisticRegression\n",
    "from sklearn.model_selection import cross_val_score\n",
    "penalty = [0.01, 0.05, 0.1, 0.5, 1, 5, 10, 50, 100]\n",
    "scores_mean = []\n",
    "for c in penalty:\n",
    "    lr = LogisticRegression(C=c, solver=\"liblinear\", penalty=\"l1\")\n",
    "    scores = cross_val_score(lr, X_train, y_train, cv=5, scoring=\"roc_auc\")\n",
    "    scores_mean.append(scores.mean())"
   ]
  },
  {
   "cell_type": "code",
   "execution_count": 18,
   "metadata": {},
   "outputs": [
    {
     "data": {
      "text/plain": [
       "[0.67788032702646372,\n",
       " 0.84530981103629477,\n",
       " 0.84693900491072927,\n",
       " 0.85554814260021428,\n",
       " 0.85701593805597154,\n",
       " 0.85805834702811179,\n",
       " 0.85729325732125283,\n",
       " 0.85707680710480272,\n",
       " 0.85718691070034847]"
      ]
     },
     "execution_count": 18,
     "metadata": {},
     "output_type": "execute_result"
    }
   ],
   "source": [
    "scores_mean\n",
    "# 最好的惩罚系数在1和10之间"
   ]
  },
  {
   "cell_type": "code",
   "execution_count": 19,
   "metadata": {},
   "outputs": [
    {
     "data": {
      "text/plain": [
       "[0.85701593805597154,\n",
       " 0.8583484521264475,\n",
       " 0.85818987143875169,\n",
       " 0.85819362841339331,\n",
       " 0.85827291875724132,\n",
       " 0.85827479724456202,\n",
       " 0.85827479724456202,\n",
       " 0.85822068469044943,\n",
       " 0.85805834702811179,\n",
       " 0.85795200040720765,\n",
       " 0.85795200040720765,\n",
       " 0.85800611296132012,\n",
       " 0.85789600936577415,\n",
       " 0.8577280362414742,\n",
       " 0.85751158602502398,\n",
       " 0.85751158602502398,\n",
       " 0.85745747347091128,\n",
       " 0.85734736987536542]"
      ]
     },
     "execution_count": 19,
     "metadata": {},
     "output_type": "execute_result"
    }
   ],
   "source": [
    "scores_mean2 = []\n",
    "for c in np.arange(1, 10, 0.5):\n",
    "    lr = LogisticRegression(C=c, solver=\"liblinear\", penalty=\"l1\")\n",
    "    scores = cross_val_score(lr, X_train, y_train, cv=5, scoring=\"roc_auc\")\n",
    "    scores_mean2.append(scores.mean())\n",
    "scores_mean2\n",
    "# c确定为4"
   ]
  },
  {
   "cell_type": "markdown",
   "metadata": {},
   "source": [
    "## 模型评估"
   ]
  },
  {
   "cell_type": "code",
   "execution_count": 20,
   "metadata": {},
   "outputs": [],
   "source": [
    "best_lr = LogisticRegression(C=4, solver=\"liblinear\", penalty=\"l1\").fit(X_train, y_train)"
   ]
  },
  {
   "cell_type": "code",
   "execution_count": 25,
   "metadata": {},
   "outputs": [
    {
     "data": {
      "text/plain": [
       "array([[ -1.07015533e+00,  -3.37673953e-01,  -4.51160826e-01,\n",
       "         -2.18266447e-01,   9.58949965e-02,   1.10788484e-03,\n",
       "         -3.85786118e-01,  -2.71589500e+00,   3.15111910e-01]])"
      ]
     },
     "execution_count": 25,
     "metadata": {},
     "output_type": "execute_result"
    }
   ],
   "source": [
    "best_lr.coef_"
   ]
  },
  {
   "cell_type": "code",
   "execution_count": 26,
   "metadata": {},
   "outputs": [
    {
     "data": {
      "text/plain": [
       "array([ 3.88788067])"
      ]
     },
     "execution_count": 26,
     "metadata": {},
     "output_type": "execute_result"
    }
   ],
   "source": [
    "best_lr.intercept_"
   ]
  },
  {
   "cell_type": "code",
   "execution_count": 21,
   "metadata": {},
   "outputs": [
    {
     "data": {
      "text/plain": [
       "0.81716417910447758"
      ]
     },
     "execution_count": 21,
     "metadata": {},
     "output_type": "execute_result"
    }
   ],
   "source": [
    "sklearn.metrics.accuracy_score(y_true=y_test, y_pred=best_lr.predict(X_test))"
   ]
  },
  {
   "cell_type": "code",
   "execution_count": 22,
   "metadata": {},
   "outputs": [
    {
     "data": {
      "text/plain": [
       "0.78125"
      ]
     },
     "execution_count": 22,
     "metadata": {},
     "output_type": "execute_result"
    }
   ],
   "source": [
    "sklearn.metrics.precision_score(y_true=y_test, y_pred=best_lr.predict(X_test))"
   ]
  },
  {
   "cell_type": "code",
   "execution_count": 23,
   "metadata": {},
   "outputs": [
    {
     "data": {
      "text/plain": [
       "0.72815533980582525"
      ]
     },
     "execution_count": 23,
     "metadata": {},
     "output_type": "execute_result"
    }
   ],
   "source": [
    "sklearn.metrics.recall_score(y_true=y_test, y_pred=best_lr.predict(X_test))"
   ]
  },
  {
   "cell_type": "code",
   "execution_count": 24,
   "metadata": {},
   "outputs": [
    {
     "data": {
      "text/plain": [
       "0.75376884422110557"
      ]
     },
     "execution_count": 24,
     "metadata": {},
     "output_type": "execute_result"
    }
   ],
   "source": [
    "sklearn.metrics.f1_score(y_true=y_test, y_pred=best_lr.predict(X_test))"
   ]
  },
  {
   "cell_type": "code",
   "execution_count": null,
   "metadata": {},
   "outputs": [],
   "source": []
  }
 ],
 "metadata": {
  "kernelspec": {
   "display_name": "Python 3",
   "language": "python",
   "name": "python3"
  },
  "language_info": {
   "codemirror_mode": {
    "name": "ipython",
    "version": 3
   },
   "file_extension": ".py",
   "mimetype": "text/x-python",
   "name": "python",
   "nbconvert_exporter": "python",
   "pygments_lexer": "ipython3",
   "version": "3.6.2"
  },
  "latex_envs": {
   "LaTeX_envs_menu_present": true,
   "autoclose": false,
   "autocomplete": true,
   "bibliofile": "biblio.bib",
   "cite_by": "apalike",
   "current_citInitial": 1,
   "eqLabelWithNumbers": true,
   "eqNumInitial": 1,
   "hotkeys": {
    "equation": "Ctrl-E",
    "itemize": "Ctrl-I"
   },
   "labels_anchors": false,
   "latex_user_defs": false,
   "report_style_numbering": false,
   "user_envs_cfg": false
  },
  "toc": {
   "base_numbering": 1,
   "nav_menu": {},
   "number_sections": true,
   "sideBar": true,
   "skip_h1_title": false,
   "title_cell": "Table of Contents",
   "title_sidebar": "Contents",
   "toc_cell": false,
   "toc_position": {},
   "toc_section_display": true,
   "toc_window_display": false
  }
 },
 "nbformat": 4,
 "nbformat_minor": 2
}
