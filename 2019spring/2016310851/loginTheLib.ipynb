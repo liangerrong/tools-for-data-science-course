{
 "cells": [
  {
   "cell_type": "code",
   "execution_count": null,
   "metadata": {},
   "outputs": [],
   "source": [
    "from selenium import webdriver\n",
    "from selenium.webdriver.common.by import By\n",
    "from selenium.webdriver.support.ui import WebDriverWait\n",
    "from selenium.webdriver.support import expected_conditions as EC\n",
    "from selenium.common.exceptions import TimeoutException\n",
    "from bs4 import BeautifulSoup\n",
    "import time\n",
    "\n",
    "browser = webdriver.Chrome()\n",
    "waits = WebDriverWait(browser, 30)\n",
    "url=\"http://lib.cufe.edu.cn\"\n",
    "browser.get(url)\n",
    "my_lib = waits.until(EC.element_to_be_clickable((By.CSS_SELECTOR, \"body > div.wrap.header_logo > div > div.logo_right > div > div.book > a:nth-of-type(2)\")))\n",
    "my_lib.click()\n",
    "browser.switch_to_window(browser.window_handles[1])\n",
    "user = waits.until(EC.presence_of_element_located((By.CSS_SELECTOR, \"#number\")))\n",
    "password = waits.until(EC.presence_of_element_located((By.CSS_SELECTOR, \"#left_tab > form > table > tbody > tr:nth-of-type(2) > td:nth-of-type(2) > input\")))\n",
    "user.send_keys(\"2016310851\")\n",
    "password.send_keys(\"lxg2016310851\")\n",
    "order = input(\"continue, yes or no\")\n",
    "if order==\"yes\":\n",
    "    login = waits.until(EC.element_to_be_clickable((By.CSS_SELECTOR, \"#left_tab > form > table > tbody > tr:nth-of-type(6) > td:nth-of-type(2) > input.btn.btn-danger\")))\n",
    "    login.click()\n",
    "    html = browser.page_source\n",
    "    soup = BeautifulSoup(html, 'lxml')\n",
    "    print(soup)\n",
    "\n",
    "time.sleep(20)\n",
    "browser.quit()"
   ]
  }
 ],
 "metadata": {
  "kernelspec": {
   "display_name": "Python 3",
   "language": "python",
   "name": "python3"
  },
  "language_info": {
   "codemirror_mode": {
    "name": "ipython",
    "version": 3
   },
   "file_extension": ".py",
   "mimetype": "text/x-python",
   "name": "python",
   "nbconvert_exporter": "python",
   "pygments_lexer": "ipython3",
   "version": "3.6.2"
  },
  "latex_envs": {
   "LaTeX_envs_menu_present": true,
   "autoclose": false,
   "autocomplete": true,
   "bibliofile": "biblio.bib",
   "cite_by": "apalike",
   "current_citInitial": 1,
   "eqLabelWithNumbers": true,
   "eqNumInitial": 1,
   "hotkeys": {
    "equation": "Ctrl-E",
    "itemize": "Ctrl-I"
   },
   "labels_anchors": false,
   "latex_user_defs": false,
   "report_style_numbering": false,
   "user_envs_cfg": false
  },
  "toc": {
   "base_numbering": 1,
   "nav_menu": {},
   "number_sections": true,
   "sideBar": true,
   "skip_h1_title": false,
   "title_cell": "Table of Contents",
   "title_sidebar": "Contents",
   "toc_cell": false,
   "toc_position": {},
   "toc_section_display": true,
   "toc_window_display": false
  }
 },
 "nbformat": 4,
 "nbformat_minor": 2
}
