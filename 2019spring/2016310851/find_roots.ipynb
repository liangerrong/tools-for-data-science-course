{
 "cells": [
  {
   "cell_type": "code",
   "execution_count": 12,
   "metadata": {},
   "outputs": [],
   "source": [
    "def find_roots(a, b, c):\n",
    "    import math\n",
    "    for i in range(len(a)):\n",
    "        formula = str(a[i])+\"x*x + \" + str(b[i])+\"*x\" + \" + \"+str(c[i])+\" = 0\"\n",
    "        delta = b[i]**2-4*a[i]*c[i]\n",
    "        if delta<0:\n",
    "            print(formula,\"无解\")\n",
    "        elif delta==0:\n",
    "            solve1 = -b[i]/(2*a[i])\n",
    "            print(formula,\"只有一个解：\", solve1)\n",
    "        else:\n",
    "            solve1 = (-b[i]+math.sqrt(delta))/(2*a[i])\n",
    "            solve2 = (-b[i]-math.sqrt(delta))/(2*a[i])\n",
    "            print(formula,\"有两个解:\", solve1, \"和\", solve2)"
   ]
  },
  {
   "cell_type": "code",
   "execution_count": 13,
   "metadata": {},
   "outputs": [
    {
     "name": "stdout",
     "output_type": "stream",
     "text": [
      "1x*x + 2*x + 1 = 0 只有一个解： -1.0\n",
      "2x*x + 5*x + 2 = 0 有两个解: -0.5 和 -2.0\n",
      "3x*x + 6*x + 4 = 0 无解\n"
     ]
    }
   ],
   "source": [
    "find_roots(a=[1, 2, 3], b=[2, 5, 6], c=[1, 2, 4])"
   ]
  },
  {
   "cell_type": "code",
   "execution_count": null,
   "metadata": {},
   "outputs": [],
   "source": []
  }
 ],
 "metadata": {
  "kernelspec": {
   "display_name": "Python 3",
   "language": "python",
   "name": "python3"
  },
  "language_info": {
   "codemirror_mode": {
    "name": "ipython",
    "version": 3
   },
   "file_extension": ".py",
   "mimetype": "text/x-python",
   "name": "python",
   "nbconvert_exporter": "python",
   "pygments_lexer": "ipython3",
   "version": "3.6.2"
  },
  "latex_envs": {
   "LaTeX_envs_menu_present": true,
   "autoclose": false,
   "autocomplete": true,
   "bibliofile": "biblio.bib",
   "cite_by": "apalike",
   "current_citInitial": 1,
   "eqLabelWithNumbers": true,
   "eqNumInitial": 1,
   "hotkeys": {
    "equation": "Ctrl-E",
    "itemize": "Ctrl-I"
   },
   "labels_anchors": false,
   "latex_user_defs": false,
   "report_style_numbering": false,
   "user_envs_cfg": false
  },
  "toc": {
   "base_numbering": 1,
   "nav_menu": {},
   "number_sections": true,
   "sideBar": true,
   "skip_h1_title": false,
   "title_cell": "Table of Contents",
   "title_sidebar": "Contents",
   "toc_cell": false,
   "toc_position": {},
   "toc_section_display": true,
   "toc_window_display": false
  }
 },
 "nbformat": 4,
 "nbformat_minor": 2
}
