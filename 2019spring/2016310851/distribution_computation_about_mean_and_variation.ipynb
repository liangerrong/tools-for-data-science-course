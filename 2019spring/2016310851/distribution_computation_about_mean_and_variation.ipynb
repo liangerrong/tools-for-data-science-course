{
 "cells": [
  {
   "cell_type": "markdown",
   "metadata": {},
   "source": [
    "# 导入库并产生数据"
   ]
  },
  {
   "cell_type": "code",
   "execution_count": 33,
   "metadata": {},
   "outputs": [],
   "source": [
    "import numpy as np\n",
    "import time\n",
    "data = np.array(np.random.randint(0, 100, 10**6))\n",
    "data1 = data.reshape(-1, 10)"
   ]
  },
  {
   "cell_type": "markdown",
   "metadata": {},
   "source": [
    "# 分布计算均值"
   ]
  },
  {
   "cell_type": "code",
   "execution_count": 34,
   "metadata": {},
   "outputs": [
    {
     "name": "stdout",
     "output_type": "stream",
     "text": [
      "49.530018 0.0007851516648997858\n",
      "49.530018 0.0018683725361370307\n"
     ]
    }
   ],
   "source": [
    "import time\n",
    "n=10\n",
    "start = time.clock()\n",
    "data1_mean = data1.mean(axis=0)\n",
    "start2 = time.clock()\n",
    "time1 = (start2-start)/n # 因为假设有n台机器同时计算，所以用时除以n\n",
    "print(data1_mean.mean(), time.clock()-start2+time1)\n",
    "start3 = time.clock()\n",
    "print(data.mean(), time.clock()-start3)"
   ]
  },
  {
   "cell_type": "markdown",
   "metadata": {},
   "source": [
    "# 分布计算方差"
   ]
  },
  {
   "cell_type": "markdown",
   "metadata": {
    "scrolled": true
   },
   "source": [
    "假设一共有$mn$个数据，将其分为$m$组，每组有$n$个数据\n",
    "\\begin{align*}\n",
    "\\sum_{i,j}(Y_{ij}-\\bar {\\bar Y})^2 &=\\sum_{i,j}(Y_{ij}-\\bar Y_i+\\bar Y_i-\\bar {\\bar Y})^2 \\\\\n",
    "&=\\sum_{i,j}(Y_{ij}-\\bar Y_i)^2 +\\sum_{i,j}(\\bar Y_i-\\bar {\\bar Y})^2 + \\sum_{i,j}2(Y_{ij}-\\bar Y_i)(\\bar Y_i-\\bar {\\bar Y})\\\\\n",
    "&=\\sum_{i}^m\\sum_{j}^n(Y_{ij}-\\bar Y_i)^2 + \\sum_{i}^mn(\\bar Y_i-\\bar {\\bar Y})^2 + 2\\sum_{i}^m(\\bar Y_i-\\bar {\\bar Y})\\sum_{j}^n(Y_{ij}-\\bar Y_i)\\\\\n",
    "&=\\sum_{i}^m\\sum_{j}^n(Y_{ij}-\\bar Y_i)^2 + \\sum_{i}^mn(\\bar Y_i-\\bar {\\bar Y})^2\n",
    "\\end{align*}\n",
    "则得到\n",
    "$$\n",
    "S^2=\\frac1{mn-1}\\sum_{i,j}(Y_{ij}-\\bar {\\bar Y})^2 \\\\\n",
    "S_{between}^2 = \\frac1{m-1}\\sum_{i}^mn(\\bar Y_i-\\bar {\\bar Y})^2 \\\\\n",
    "S_{in}^2 = \\frac1{m(n-1)}\\sum_{i}^m\\sum_{j}^n(Y_{ij}-\\bar Y_i)^2 \\\\\n",
    "S^2 = \\frac1{mn-1} \\left[{(m-1)}S_{between}^2+{m(n-1)}S_{in}^2\\right]\n",
    "$$"
   ]
  },
  {
   "cell_type": "code",
   "execution_count": 35,
   "metadata": {},
   "outputs": [
    {
     "name": "stdout",
     "output_type": "stream",
     "text": [
      "832.791833712 0.0027674014859258023\n",
      "832.791833712 0.010978981982134428\n"
     ]
    }
   ],
   "source": [
    "m = 10\n",
    "n = 10**6/m\n",
    "# import numpy as np\n",
    "# data = np.array(np.random.randint(0, 100, 10**6))\n",
    "# data1 = data.reshape(-1, 10)\n",
    "start_var = time.clock()\n",
    "data1_mean = data1.mean(axis=0)\n",
    "S2_in = data1.var(axis=0, ddof=1)\n",
    "start_var2 = time.clock()\n",
    "time_var = start_var2-start_var\n",
    "S2_bet = data1_mean.var(ddof=1)*n # 因为假设有n台机器同时计算，所以用时除以n\n",
    "S2_distributed = ((m-1)*S2_bet + m*(n-1)*S2_in.mean())/(m*n - 1)\n",
    "print(S2_distributed, time_var/m + time.clock()-start_var2)\n",
    "start_var3 = time.clock()\n",
    "S2 = data.var(ddof=1)\n",
    "print(S2, time.clock()-start_var3)"
   ]
  }
 ],
 "metadata": {
  "kernelspec": {
   "display_name": "Python 3",
   "language": "python",
   "name": "python3"
  },
  "language_info": {
   "codemirror_mode": {
    "name": "ipython",
    "version": 3
   },
   "file_extension": ".py",
   "mimetype": "text/x-python",
   "name": "python",
   "nbconvert_exporter": "python",
   "pygments_lexer": "ipython3",
   "version": "3.7.3"
  },
  "toc": {
   "base_numbering": 1,
   "nav_menu": {},
   "number_sections": true,
   "sideBar": true,
   "skip_h1_title": false,
   "title_cell": "Table of Contents",
   "title_sidebar": "Contents",
   "toc_cell": false,
   "toc_position": {},
   "toc_section_display": true,
   "toc_window_display": false
  }
 },
 "nbformat": 4,
 "nbformat_minor": 2
}
