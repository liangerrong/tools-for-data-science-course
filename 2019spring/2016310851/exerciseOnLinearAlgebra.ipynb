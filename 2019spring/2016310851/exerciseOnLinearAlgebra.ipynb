{
 "cells": [
  {
   "cell_type": "markdown",
   "metadata": {},
   "source": [
    "# cholesky分解python实现"
   ]
  },
  {
   "cell_type": "code",
   "execution_count": 121,
   "metadata": {},
   "outputs": [],
   "source": [
    "def mycho(A):\n",
    "    A_x = A.shape[0]\n",
    "    A_y = A.shape[1]\n",
    "    if not np.allclose(A.T, A) :\n",
    "        print('Please input a symmetric matrix')\n",
    "    elif np.any(np.linalg.eigvals(A) <= 0) :\n",
    "        print('Please input a positive definite matrix')\n",
    "    else:\n",
    "        L = np.zeros([A_x, A_y])\n",
    "        A_copy = np.copy(A)\n",
    "        for i in range(A_x):\n",
    "            L[i, i] = np.sqrt(A_copy[0, 0])\n",
    "            if i==(A_x-1):\n",
    "                break\n",
    "            L[i+1:, i] = A_copy[1:, 0]/L[i,i] \n",
    "            A_copy = A_copy[1:,1:] - L[i+1:, i].reshape(-1,1).dot(L[i+1:, i].reshape(1, -1))\n",
    "        return L"
   ]
  },
  {
   "cell_type": "code",
   "execution_count": 122,
   "metadata": {},
   "outputs": [
    {
     "name": "stdout",
     "output_type": "stream",
     "text": [
      "[[ 4.16891138  0.          0.          0.          0.        ]\n",
      " [ 3.14593633  2.63224197  0.          0.          0.        ]\n",
      " [ 3.03320937  1.4190999   2.20040833  0.          0.        ]\n",
      " [ 3.38326498  1.0862851   1.31576642  1.12260587  0.        ]\n",
      " [ 4.94751939  0.49871978  0.7379769  -0.51392584  0.72882721]]\n"
     ]
    },
    {
     "data": {
      "text/plain": [
       "array([[ 4.16891138,  0.        ,  0.        ,  0.        ,  0.        ],\n",
       "       [ 3.14593633,  2.63224197,  0.        ,  0.        ,  0.        ],\n",
       "       [ 3.03320937,  1.4190999 ,  2.20040833,  0.        ,  0.        ],\n",
       "       [ 3.38326498,  1.0862851 ,  1.31576642,  1.12260587,  0.        ],\n",
       "       [ 4.94751939,  0.49871978,  0.7379769 , -0.51392584,  0.72882721]])"
      ]
     },
     "execution_count": 122,
     "metadata": {},
     "output_type": "execute_result"
    }
   ],
   "source": [
    "import random\n",
    "random.seed(4)\n",
    "X = np.random.rand(5**2).reshape(5, 5)\n",
    "A = np.dot(X,X.transpose())*10\n",
    "print(mycho(A))\n",
    "import numpy as np\n",
    "np.linalg.cholesky(A)"
   ]
  },
  {
   "cell_type": "markdown",
   "metadata": {},
   "source": [
    "# 一些线代公式验证"
   ]
  },
  {
   "cell_type": "markdown",
   "metadata": {},
   "source": [
    "$(A + B)^T = B^T+A^T$"
   ]
  },
  {
   "cell_type": "code",
   "execution_count": 1,
   "metadata": {},
   "outputs": [
    {
     "data": {
      "text/plain": [
       "True"
      ]
     },
     "execution_count": 1,
     "metadata": {},
     "output_type": "execute_result"
    }
   ],
   "source": [
    "import numpy as np\n",
    "A = np.random.rand(3*4).reshape(3,4)\n",
    "B = np.random.rand(3*4).reshape(3,4)\n",
    "np.allclose((A+B).T,B.T + A.T)"
   ]
  },
  {
   "cell_type": "markdown",
   "metadata": {},
   "source": [
    "$(A B)^T = B^T A^T$"
   ]
  },
  {
   "cell_type": "code",
   "execution_count": 3,
   "metadata": {},
   "outputs": [
    {
     "data": {
      "text/plain": [
       "True"
      ]
     },
     "execution_count": 3,
     "metadata": {},
     "output_type": "execute_result"
    }
   ],
   "source": [
    "import numpy as np\n",
    "A = np.random.rand(3*4).reshape(3,4)\n",
    "B = np.random.rand(3*4).reshape(4,3)\n",
    "np.allclose(np.dot(A, B).T, np.dot(B.T, A.T))"
   ]
  },
  {
   "cell_type": "markdown",
   "metadata": {},
   "source": [
    "$(A A^T)^T=A A^T$"
   ]
  },
  {
   "cell_type": "code",
   "execution_count": 5,
   "metadata": {},
   "outputs": [
    {
     "data": {
      "text/plain": [
       "True"
      ]
     },
     "execution_count": 5,
     "metadata": {},
     "output_type": "execute_result"
    }
   ],
   "source": [
    "import numpy as np\n",
    "A = np.random.rand(3*4).reshape(3,4)\n",
    "np.allclose(np.dot(A, A.T).T, np.dot(A, A.T))"
   ]
  },
  {
   "cell_type": "markdown",
   "metadata": {},
   "source": [
    "$tr(A+B) = tr(A)+tr(B)$"
   ]
  },
  {
   "cell_type": "code",
   "execution_count": 10,
   "metadata": {},
   "outputs": [
    {
     "data": {
      "text/plain": [
       "True"
      ]
     },
     "execution_count": 10,
     "metadata": {},
     "output_type": "execute_result"
    }
   ],
   "source": [
    "import numpy as np\n",
    "A = np.random.rand(4*4).reshape(4,4)\n",
    "B = np.random.rand(4*4).reshape(4,4)\n",
    "np.allclose(np.trace(A+B), np.trace(A)+np.trace(B))"
   ]
  },
  {
   "cell_type": "markdown",
   "metadata": {},
   "source": [
    "$tr(AB)=tr(BA)$"
   ]
  },
  {
   "cell_type": "code",
   "execution_count": 11,
   "metadata": {},
   "outputs": [
    {
     "data": {
      "text/plain": [
       "True"
      ]
     },
     "execution_count": 11,
     "metadata": {},
     "output_type": "execute_result"
    }
   ],
   "source": [
    "import numpy as np\n",
    "A = np.random.rand(4*4).reshape(4,4)\n",
    "B = np.random.rand(4*4).reshape(4,4)\n",
    "np.allclose(np.trace(A.dot(B)), np.trace(B.dot(A)))"
   ]
  },
  {
   "cell_type": "markdown",
   "metadata": {},
   "source": [
    "$|A|=|A^T|$"
   ]
  },
  {
   "cell_type": "code",
   "execution_count": 60,
   "metadata": {},
   "outputs": [
    {
     "data": {
      "text/plain": [
       "True"
      ]
     },
     "execution_count": 60,
     "metadata": {},
     "output_type": "execute_result"
    }
   ],
   "source": [
    "import numpy as np\n",
    "A = np.random.rand(4*4).reshape(4,4)\n",
    "np.isclose(np.linalg.det(A), np.linalg.det(A.T))"
   ]
  },
  {
   "cell_type": "markdown",
   "metadata": {},
   "source": [
    "$|AB|=|A||B|$"
   ]
  },
  {
   "cell_type": "code",
   "execution_count": 59,
   "metadata": {},
   "outputs": [
    {
     "data": {
      "text/plain": [
       "True"
      ]
     },
     "execution_count": 59,
     "metadata": {},
     "output_type": "execute_result"
    }
   ],
   "source": [
    "import numpy as np\n",
    "A = np.random.rand(4*4).reshape(4,4)\n",
    "B = np.random.rand(4*4).reshape(4,4)\n",
    "np.isclose(np.linalg.det(np.dot(A, B)),np.linalg.det(A)*np.linalg.det(B))"
   ]
  },
  {
   "cell_type": "markdown",
   "metadata": {},
   "source": [
    "$(AB)^{-1}=B^{-1}A^{-1}$"
   ]
  },
  {
   "cell_type": "code",
   "execution_count": 70,
   "metadata": {},
   "outputs": [
    {
     "data": {
      "text/plain": [
       "True"
      ]
     },
     "execution_count": 70,
     "metadata": {},
     "output_type": "execute_result"
    }
   ],
   "source": [
    "import numpy as np\n",
    "import random\n",
    "random.seed(4)\n",
    "X = np.random.rand(5**2).reshape(5, 5)\n",
    "Y = np.random.rand(5**2).reshape(5, 5)\n",
    "A = np.dot(X,X.transpose())\n",
    "B = np.dot(Y,Y.transpose())\n",
    "np.allclose(np.linalg.inv(np.dot(A, B)), np.dot(np.linalg.inv(B), np.linalg.inv(A)))"
   ]
  }
 ],
 "metadata": {
  "kernelspec": {
   "display_name": "Python 3",
   "language": "python",
   "name": "python3"
  },
  "language_info": {
   "codemirror_mode": {
    "name": "ipython",
    "version": 3
   },
   "file_extension": ".py",
   "mimetype": "text/x-python",
   "name": "python",
   "nbconvert_exporter": "python",
   "pygments_lexer": "ipython3",
   "version": "3.6.2"
  },
  "latex_envs": {
   "LaTeX_envs_menu_present": true,
   "autoclose": false,
   "autocomplete": true,
   "bibliofile": "biblio.bib",
   "cite_by": "apalike",
   "current_citInitial": 1,
   "eqLabelWithNumbers": true,
   "eqNumInitial": 1,
   "hotkeys": {
    "equation": "Ctrl-E",
    "itemize": "Ctrl-I"
   },
   "labels_anchors": false,
   "latex_user_defs": false,
   "report_style_numbering": false,
   "user_envs_cfg": false
  },
  "toc": {
   "base_numbering": 1,
   "nav_menu": {},
   "number_sections": true,
   "sideBar": true,
   "skip_h1_title": false,
   "title_cell": "Table of Contents",
   "title_sidebar": "Contents",
   "toc_cell": false,
   "toc_position": {},
   "toc_section_display": true,
   "toc_window_display": false
  }
 },
 "nbformat": 4,
 "nbformat_minor": 2
}
