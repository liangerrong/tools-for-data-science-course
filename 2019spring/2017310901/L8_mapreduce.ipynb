{
 "cells": [
  {
   "cell_type": "code",
   "execution_count": 54,
   "metadata": {},
   "outputs": [],
   "source": [
    "from random import *\n",
    "a=list()\n",
    "for i in range(100000):\n",
    "    a.append(randint(1,100))"
   ]
  },
  {
   "cell_type": "code",
   "execution_count": 70,
   "metadata": {},
   "outputs": [],
   "source": [
    "a1=a[0:10000]\n",
    "a2=a[10000:20000]\n",
    "a3=a[20000:30000]\n",
    "a4=a[30000:40000]\n",
    "a5=a[40000:50000]\n",
    "a6=a[50000:60000]\n",
    "a7=a[60000:70000]\n",
    "a8=a[70000:80000]\n",
    "a9=a[80000:90000]\n",
    "a10=a[90000:100000]\n",
    "aa=list()\n",
    "aa.append(a1)\n",
    "aa.append(a2)\n",
    "aa.append(a3)\n",
    "aa.append(a4)\n",
    "aa.append(a5)\n",
    "aa.append(a6)\n",
    "aa.append(a7)\n",
    "aa.append(a8)\n",
    "aa.append(a9)\n",
    "aa.append(a10)"
   ]
  },
  {
   "cell_type": "code",
   "execution_count": 83,
   "metadata": {},
   "outputs": [
    {
     "data": {
      "text/plain": [
       "50.55251"
      ]
     },
     "execution_count": 83,
     "metadata": {},
     "output_type": "execute_result"
    }
   ],
   "source": [
    "def mean(a):\n",
    "    s=0\n",
    "    for i in range(len(a)):\n",
    "        s+=a[i]\n",
    "    m=s/len(a)\n",
    "    return m\n",
    "mean(a)"
   ]
  },
  {
   "cell_type": "code",
   "execution_count": 72,
   "metadata": {},
   "outputs": [
    {
     "name": "stdout",
     "output_type": "stream",
     "text": [
      "50.55251\n",
      "50.552510000000005\n"
     ]
    }
   ],
   "source": [
    "m=mean(a)\n",
    "mls=list()\n",
    "for i in range(len(aa)):\n",
    "    mls.append(mean(aa[i]))\n",
    "m2=mean(mls)\n",
    "print(m)\n",
    "print(m2)"
   ]
  },
  {
   "cell_type": "code",
   "execution_count": 58,
   "metadata": {},
   "outputs": [
    {
     "name": "stdout",
     "output_type": "stream",
     "text": [
      "time cost 9.16700005531311 s\n"
     ]
    }
   ],
   "source": [
    "import time\n",
    "time_start=time.time()\n",
    "for i in range(1000):\n",
    "    mean(a)\n",
    "time_end=time.time()\n",
    "print('time cost',time_end-time_start,'s')"
   ]
  },
  {
   "cell_type": "code",
   "execution_count": 73,
   "metadata": {},
   "outputs": [
    {
     "name": "stdout",
     "output_type": "stream",
     "text": [
      "time cost 7.130999803543091 s\n"
     ]
    }
   ],
   "source": [
    "time_start=time.time()\n",
    "for i in range(1000):\n",
    "    mls=list()\n",
    "    for i in range(len(aa)):\n",
    "        mls.append(mean(aa[i]))\n",
    "    m2=mean(mls)\n",
    "time_end=time.time()\n",
    "print('time cost',time_end-time_start,'s')"
   ]
  },
  {
   "cell_type": "code",
   "execution_count": 63,
   "metadata": {},
   "outputs": [
    {
     "name": "stdout",
     "output_type": "stream",
     "text": [
      "836.3679263791605\n",
      "835.0520231123156\n"
     ]
    }
   ],
   "source": [
    "def var(a):\n",
    "    s=0\n",
    "    m=mean(a)\n",
    "    for i in range(len(a)):\n",
    "        s+=(a[i]-m)*(a[i]-m)\n",
    "    v=s/(len(a)-1)\n",
    "    return v\n",
    "print(var(a))\n",
    "print(var(a1))"
   ]
  },
  {
   "cell_type": "code",
   "execution_count": 75,
   "metadata": {},
   "outputs": [
    {
     "name": "stdout",
     "output_type": "stream",
     "text": [
      "836.3679263791605\n",
      "836.3679263791662\n"
     ]
    }
   ],
   "source": [
    "s=0\n",
    "m=mean(a)\n",
    "for j in range(10):\n",
    "    s+=(len(a1)-1)*var(aa[j])+len(a1)*(mean(aa[j])-m)*(mean(aa[j])-m)\n",
    "v2=s/(len(a)-1)\n",
    "print(v)\n",
    "print(v2)"
   ]
  },
  {
   "cell_type": "code",
   "execution_count": 81,
   "metadata": {},
   "outputs": [
    {
     "name": "stdout",
     "output_type": "stream",
     "text": [
      "time cost 2.822000026702881 s\n"
     ]
    }
   ],
   "source": [
    "time_start=time.time()\n",
    "for i in range(100):\n",
    "    var(a)\n",
    "time_end=time.time()\n",
    "print('time cost',time_end-time_start,'s')"
   ]
  },
  {
   "cell_type": "code",
   "execution_count": 85,
   "metadata": {},
   "outputs": [
    {
     "name": "stdout",
     "output_type": "stream",
     "text": [
      "time cost 4.851999998092651 s\n"
     ]
    }
   ],
   "source": [
    "time_start=time.time()\n",
    "for i in range(100):\n",
    "    s=0\n",
    "    m=mean(a)\n",
    "    for j in range(10):\n",
    "        s+=(len(a1)-1)*var(aa[j])+len(a1)*(mean(aa[j])-m)*(mean(aa[j])-m)\n",
    "    v2=s/(len(a)-1)\n",
    "time_end=time.time()\n",
    "print('time cost',time_end-time_start,'s')"
   ]
  }
 ],
 "metadata": {
  "kernelspec": {
   "display_name": "Python 3",
   "language": "python",
   "name": "python3"
  },
  "language_info": {
   "codemirror_mode": {
    "name": "ipython",
    "version": 3
   },
   "file_extension": ".py",
   "mimetype": "text/x-python",
   "name": "python",
   "nbconvert_exporter": "python",
   "pygments_lexer": "ipython3",
   "version": "3.7.1"
  }
 },
 "nbformat": 4,
 "nbformat_minor": 2
}
